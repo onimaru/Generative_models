{
 "cells": [
  {
   "cell_type": "markdown",
   "metadata": {},
   "source": [
    "# Implementar o CausalGAN\n",
    "\n",
    "2- Então usar as ideias do CausalGAN: [CausalGAN: Learning Causal Implicit Generative Models with Adversarial Training](https://arxiv.org/abs/1709.02023)"
   ]
  },
  {
   "cell_type": "markdown",
   "metadata": {},
   "source": [
    "## Construir o Dataset"
   ]
  },
  {
   "cell_type": "code",
   "execution_count": 1,
   "metadata": {},
   "outputs": [],
   "source": [
    "import numpy as np\n",
    "import pandas as pd"
   ]
  },
  {
   "cell_type": "code",
   "execution_count": 2,
   "metadata": {},
   "outputs": [],
   "source": [
    "n_samples = 30000\n",
    "genero = np.random.choice([0,1],size=n_samples,p=[0.53,0.47]).reshape(n_samples,1)\n",
    "idade = np.random.choice([0,1],size=n_samples,p=[0.65,0.35]).reshape(n_samples,1)\n",
    "regiao = np.random.choice([0,1,2,3],size=n_samples,p=[0.2,0.3,0.4,0.1]).reshape(n_samples,1)"
   ]
  },
  {
   "cell_type": "code",
   "execution_count": 3,
   "metadata": {},
   "outputs": [],
   "source": [
    "def gen_bigode(genero,idade):\n",
    "    prob_bigode_velho = [0.4,0.6]\n",
    "    prob_bigode_novo = [0.55,0.45]\n",
    "    bigode = np.zeros(shape=(genero.shape[0],1))\n",
    "    for i in range(genero.shape[0]):\n",
    "        if genero[i] == 1 and idade[i]==1:\n",
    "            bigode[i] = np.random.choice([0,1],p=prob_bigode_velho)\n",
    "        elif genero[i] == 1 and idade[i]==0:\n",
    "            bigode[i] = np.random.choice([0,1],p=prob_bigode_novo)\n",
    "    return bigode\n",
    "\n",
    "def gen_careca(genero,idade):\n",
    "    prob_careca_velho = [0.3,0.7]\n",
    "    prob_careca_novo = [0.8,0.2]\n",
    "    careca = np.zeros(shape=(genero.shape[0],1))\n",
    "    for i in range(genero.shape[0]):\n",
    "        if genero[i] == 1 and idade[i]==1:\n",
    "            careca[i] = np.random.choice([0,1],p=prob_careca_velho)\n",
    "        if genero[i] == 1 and idade[i]==0:\n",
    "            careca[i] = np.random.choice([0,1],p=prob_careca_novo)\n",
    "    return careca\n",
    "\n",
    "def gen_cabelo(regiao,careca):\n",
    "    prob_cabelo_america = [0.45,0.40,0.15]\n",
    "    prob_cabelo_europa = [0.35,0.40,0.25]\n",
    "    prob_cabelo_asia = [0.9,0.09,0.01]\n",
    "    prob_cabelo_oceania = [0.4,0.5,0.1]\n",
    "    cabelo = np.zeros(shape=(regiao.shape[0],1))\n",
    "    for i in range(regiao.shape[0]):\n",
    "        if careca[i] == 0 and regiao[i]==0:\n",
    "            cabelo[i] = np.random.choice([0,1,2],p=prob_cabelo_america)\n",
    "        elif careca[i] == 0 and regiao[i]==1:\n",
    "            cabelo[i] = np.random.choice([0,1,2],p=prob_cabelo_europa)\n",
    "        elif careca[i] == 0 and regiao[i]==2:\n",
    "            cabelo[i] = np.random.choice([0,1,2],p=prob_cabelo_asia)\n",
    "        elif careca[i] == 0 and regiao[i]==3:\n",
    "            cabelo[i] = np.random.choice([0,1,2],p=prob_cabelo_oceania)\n",
    "        elif careca[i] == 1:\n",
    "            cabelo[i] = 3\n",
    "    return cabelo\n",
    "\n",
    "def gen_oculos(idade):\n",
    "    prob_oculos_velho = [0.4,0.6]\n",
    "    prob_oculos_novo = [0.8,0.2]\n",
    "    oculos = np.zeros(shape=(idade.shape[0],1))\n",
    "    for i in range(idade.shape[0]):\n",
    "        if idade[i] == 1:\n",
    "            oculos[i] = np.random.choice([0,1],p=prob_oculos_velho)\n",
    "        elif idade[i] == 0:\n",
    "            oculos[i] = np.random.choice([0,1],p=prob_oculos_novo)\n",
    "    return oculos"
   ]
  },
  {
   "cell_type": "code",
   "execution_count": 4,
   "metadata": {},
   "outputs": [],
   "source": [
    "bigode = gen_bigode(genero,idade)\n",
    "oculos = gen_oculos(idade)\n",
    "careca = gen_careca(genero,idade)\n",
    "cabelo = gen_cabelo(regiao,careca)"
   ]
  },
  {
   "cell_type": "code",
   "execution_count": 5,
   "metadata": {},
   "outputs": [],
   "source": [
    "X_features = np.concatenate((genero,idade,cabelo,regiao,oculos,bigode,careca),axis=1)"
   ]
  },
  {
   "cell_type": "code",
   "execution_count": 6,
   "metadata": {},
   "outputs": [],
   "source": [
    "df_num_ = pd.DataFrame(data=X_features,columns=['genero','idade','cabelo','regiao','oculos','bigode','careca']).astype(int)\n",
    "df_num = df_num_[['genero','idade','oculos','bigode','careca']].copy()"
   ]
  },
  {
   "cell_type": "code",
   "execution_count": 7,
   "metadata": {},
   "outputs": [],
   "source": [
    "df_num = pd.concat([df_num,pd.get_dummies(df_num_['regiao'],prefix='regiao',prefix_sep='_')],axis=1)\n",
    "df_num = pd.concat([df_num,pd.get_dummies(df_num_['cabelo'],prefix='cabelo',prefix_sep='_')],axis=1)"
   ]
  },
  {
   "cell_type": "code",
   "execution_count": 8,
   "metadata": {},
   "outputs": [
    {
     "data": {
      "text/html": [
       "<div>\n",
       "<style scoped>\n",
       "    .dataframe tbody tr th:only-of-type {\n",
       "        vertical-align: middle;\n",
       "    }\n",
       "\n",
       "    .dataframe tbody tr th {\n",
       "        vertical-align: top;\n",
       "    }\n",
       "\n",
       "    .dataframe thead th {\n",
       "        text-align: right;\n",
       "    }\n",
       "</style>\n",
       "<table border=\"1\" class=\"dataframe\">\n",
       "  <thead>\n",
       "    <tr style=\"text-align: right;\">\n",
       "      <th></th>\n",
       "      <th>genero</th>\n",
       "      <th>idade</th>\n",
       "      <th>oculos</th>\n",
       "      <th>bigode</th>\n",
       "      <th>careca</th>\n",
       "      <th>regiao_0</th>\n",
       "      <th>regiao_1</th>\n",
       "      <th>regiao_2</th>\n",
       "      <th>regiao_3</th>\n",
       "      <th>cabelo_0</th>\n",
       "      <th>cabelo_1</th>\n",
       "      <th>cabelo_2</th>\n",
       "      <th>cabelo_3</th>\n",
       "    </tr>\n",
       "  </thead>\n",
       "  <tbody>\n",
       "    <tr>\n",
       "      <th>0</th>\n",
       "      <td>0</td>\n",
       "      <td>1</td>\n",
       "      <td>1</td>\n",
       "      <td>0</td>\n",
       "      <td>0</td>\n",
       "      <td>1</td>\n",
       "      <td>0</td>\n",
       "      <td>0</td>\n",
       "      <td>0</td>\n",
       "      <td>1</td>\n",
       "      <td>0</td>\n",
       "      <td>0</td>\n",
       "      <td>0</td>\n",
       "    </tr>\n",
       "    <tr>\n",
       "      <th>1</th>\n",
       "      <td>0</td>\n",
       "      <td>0</td>\n",
       "      <td>0</td>\n",
       "      <td>0</td>\n",
       "      <td>0</td>\n",
       "      <td>1</td>\n",
       "      <td>0</td>\n",
       "      <td>0</td>\n",
       "      <td>0</td>\n",
       "      <td>0</td>\n",
       "      <td>0</td>\n",
       "      <td>1</td>\n",
       "      <td>0</td>\n",
       "    </tr>\n",
       "  </tbody>\n",
       "</table>\n",
       "</div>"
      ],
      "text/plain": [
       "   genero  idade  oculos  bigode  careca  regiao_0  regiao_1  regiao_2  \\\n",
       "0       0      1       1       0       0         1         0         0   \n",
       "1       0      0       0       0       0         1         0         0   \n",
       "\n",
       "   regiao_3  cabelo_0  cabelo_1  cabelo_2  cabelo_3  \n",
       "0         0         1         0         0         0  \n",
       "1         0         0         0         1         0  "
      ]
     },
     "execution_count": 8,
     "metadata": {},
     "output_type": "execute_result"
    }
   ],
   "source": [
    "df_num.head(2)"
   ]
  },
  {
   "cell_type": "code",
   "execution_count": 9,
   "metadata": {},
   "outputs": [],
   "source": [
    "tradutor = {\"genero\":{0:\"mulher\",1:\"homem\"},\n",
    "           \"idade\":{0:\"novo\",1:\"velho\"},\n",
    "            \"cabelo\":{0:\"escuro\",1:\"claro\",2:\"vermelho\",3:\"ausente\"},\n",
    "            \"regiao\":{0:\"america\",1:\"europa\",2:\"asia\",3:\"oceania\"},\n",
    "            \"oculos\":{0:\"sem oculos\",1:\"com oculos\"},\n",
    "            \"bigode\":{0:\"sem bigode\",1:\"com bigode\"},\n",
    "            \"careca\":{0:\"nao\",1:\"sim\"}\n",
    "           }"
   ]
  },
  {
   "cell_type": "code",
   "execution_count": 10,
   "metadata": {},
   "outputs": [],
   "source": [
    "df_text = df_num_.copy()"
   ]
  },
  {
   "cell_type": "code",
   "execution_count": 11,
   "metadata": {},
   "outputs": [],
   "source": [
    "for col in df_num_.columns:\n",
    "    df_text[col] = df_num_[col].map(tradutor[col])"
   ]
  },
  {
   "cell_type": "code",
   "execution_count": 12,
   "metadata": {},
   "outputs": [
    {
     "data": {
      "text/html": [
       "<div>\n",
       "<style scoped>\n",
       "    .dataframe tbody tr th:only-of-type {\n",
       "        vertical-align: middle;\n",
       "    }\n",
       "\n",
       "    .dataframe tbody tr th {\n",
       "        vertical-align: top;\n",
       "    }\n",
       "\n",
       "    .dataframe thead th {\n",
       "        text-align: right;\n",
       "    }\n",
       "</style>\n",
       "<table border=\"1\" class=\"dataframe\">\n",
       "  <thead>\n",
       "    <tr style=\"text-align: right;\">\n",
       "      <th></th>\n",
       "      <th>genero</th>\n",
       "      <th>idade</th>\n",
       "      <th>cabelo</th>\n",
       "      <th>regiao</th>\n",
       "      <th>oculos</th>\n",
       "      <th>bigode</th>\n",
       "      <th>careca</th>\n",
       "    </tr>\n",
       "  </thead>\n",
       "  <tbody>\n",
       "    <tr>\n",
       "      <th>0</th>\n",
       "      <td>mulher</td>\n",
       "      <td>velho</td>\n",
       "      <td>escuro</td>\n",
       "      <td>america</td>\n",
       "      <td>com oculos</td>\n",
       "      <td>sem bigode</td>\n",
       "      <td>nao</td>\n",
       "    </tr>\n",
       "    <tr>\n",
       "      <th>1</th>\n",
       "      <td>mulher</td>\n",
       "      <td>novo</td>\n",
       "      <td>vermelho</td>\n",
       "      <td>america</td>\n",
       "      <td>sem oculos</td>\n",
       "      <td>sem bigode</td>\n",
       "      <td>nao</td>\n",
       "    </tr>\n",
       "    <tr>\n",
       "      <th>2</th>\n",
       "      <td>mulher</td>\n",
       "      <td>velho</td>\n",
       "      <td>escuro</td>\n",
       "      <td>europa</td>\n",
       "      <td>sem oculos</td>\n",
       "      <td>sem bigode</td>\n",
       "      <td>nao</td>\n",
       "    </tr>\n",
       "    <tr>\n",
       "      <th>3</th>\n",
       "      <td>homem</td>\n",
       "      <td>velho</td>\n",
       "      <td>ausente</td>\n",
       "      <td>europa</td>\n",
       "      <td>com oculos</td>\n",
       "      <td>sem bigode</td>\n",
       "      <td>sim</td>\n",
       "    </tr>\n",
       "    <tr>\n",
       "      <th>4</th>\n",
       "      <td>homem</td>\n",
       "      <td>velho</td>\n",
       "      <td>vermelho</td>\n",
       "      <td>oceania</td>\n",
       "      <td>com oculos</td>\n",
       "      <td>com bigode</td>\n",
       "      <td>nao</td>\n",
       "    </tr>\n",
       "  </tbody>\n",
       "</table>\n",
       "</div>"
      ],
      "text/plain": [
       "   genero  idade    cabelo   regiao      oculos      bigode careca\n",
       "0  mulher  velho    escuro  america  com oculos  sem bigode    nao\n",
       "1  mulher   novo  vermelho  america  sem oculos  sem bigode    nao\n",
       "2  mulher  velho    escuro   europa  sem oculos  sem bigode    nao\n",
       "3   homem  velho   ausente   europa  com oculos  sem bigode    sim\n",
       "4   homem  velho  vermelho  oceania  com oculos  com bigode    nao"
      ]
     },
     "execution_count": 12,
     "metadata": {},
     "output_type": "execute_result"
    }
   ],
   "source": [
    "df_text.head()"
   ]
  },
  {
   "cell_type": "code",
   "execution_count": 15,
   "metadata": {},
   "outputs": [],
   "source": [
    "# df_text.to_csv(\"data/counter_factual_data_example_text.csv\",index=False)"
   ]
  },
  {
   "cell_type": "code",
   "execution_count": 13,
   "metadata": {},
   "outputs": [
    {
     "name": "stdout",
     "output_type": "stream",
     "text": [
      "Mulheres com bigode: 0\n",
      "Mulheres carecas: 0\n",
      "Carecas com cabelo: 0\n"
     ]
    }
   ],
   "source": [
    "print(f\"Mulheres com bigode: {df_num[(df_num['genero']==0)&(df_num['bigode']==1)].shape[0]}\")\n",
    "print(f\"Mulheres carecas: {df_num[(df_num['genero']==0)&(df_num['careca']==1)].shape[0]}\")\n",
    "print(f\"Carecas com cabelo: {df_num[(df_num['careca']==1)&(df_num['cabelo_3']!=1)].shape[0]}\")"
   ]
  },
  {
   "cell_type": "markdown",
   "metadata": {},
   "source": [
    "---\n",
    "### Funções de auxílio"
   ]
  },
  {
   "cell_type": "code",
   "execution_count": 97,
   "metadata": {},
   "outputs": [],
   "source": [
    "def plot_losses(losses_his):\n",
    "    plt.figure(figsize=(20,8))\n",
    "    plt.subplot(221)\n",
    "    plt.plot(losses_his[0])\n",
    "    plt.grid(True)\n",
    "    plt.xlabel('Epochs')\n",
    "    plt.ylabel('Loss: Gerador')\n",
    "    plt.subplot(222)\n",
    "    plt.plot(losses_his[1])\n",
    "    plt.grid(True)\n",
    "    plt.xlabel('Epochs')\n",
    "    plt.ylabel('Loss: Discriminador')\n",
    "    plt.subplot(223)\n",
    "    plt.plot(losses_his[2])\n",
    "    plt.grid(True)\n",
    "    plt.xlabel('Epochs')\n",
    "    plt.ylabel('Loss: Anti-Labeler')\n",
    "    plt.subplot(224)\n",
    "    plt.plot(losses_his[3])\n",
    "    plt.grid(True)\n",
    "    plt.xlabel('Epochs')\n",
    "    plt.ylabel('Loss: Labeler')\n",
    "#     plt.savefig('images/losses_plot',quality=100)\n",
    "    plt.show()"
   ]
  },
  {
   "cell_type": "markdown",
   "metadata": {},
   "source": [
    "## CausalGAN\n",
    "\n",
    "- Causal Controller: usaremos apenas um label, `bigode`. Portanto o `Causal Controller` vai enviar uma variável aleatória binária, `Lg` indicando esta label que, portanto, será retirada do `dataset`.\n",
    "- Anti-Labeler: receberá o `G(Z,Lg)` e estimará a label do dado gerado.\n",
    "- Labeler: receberá o `G(Z,Lg)` e `X` e estimará a label real, `X`.\n",
    "- Gerador: receberá o ruído `Z` e a label `Lg` e retornará o dado `G(Z,Lg)`.\n",
    "- Discriminador: receberá `G(Z,Lg)` e `X` e retornará a probabilidade do dado ser real."
   ]
  },
  {
   "cell_type": "code",
   "execution_count": 98,
   "metadata": {},
   "outputs": [],
   "source": [
    "import torch\n",
    "import torch.utils.data as Data\n",
    "import torch.nn.functional as F\n",
    "from torch import optim\n",
    "from torch.autograd import Variable\n",
    "from torch import nn\n",
    "import matplotlib.pyplot as plt\n",
    "import seaborn as sns"
   ]
  },
  {
   "cell_type": "code",
   "execution_count": 99,
   "metadata": {},
   "outputs": [
    {
     "data": {
      "text/plain": [
       "0.24"
      ]
     },
     "execution_count": 99,
     "metadata": {},
     "output_type": "execute_result"
    }
   ],
   "source": [
    "# probabilidade de ocorre bigode=1 no dataset\n",
    "rho = df_num[df_num[\"bigode\"]==1].shape[0]/df_num.shape[0]\n",
    "rho"
   ]
  },
  {
   "cell_type": "code",
   "execution_count": 100,
   "metadata": {},
   "outputs": [
    {
     "name": "stdout",
     "output_type": "stream",
     "text": [
      "torch.Size([30000, 13]) torch.FloatTensor torch.Size([30000, 1]) torch.FloatTensor\n"
     ]
    }
   ],
   "source": [
    "X_data = df_num.copy().values\n",
    "y_data = df_num[\"bigode\"].copy().values.reshape(X_data.shape[0],1)\n",
    "X_tc = torch.Tensor(X_data).type(torch.FloatTensor)\n",
    "y_tc = torch.Tensor(y_data).type(torch.FloatTensor)\n",
    "print(X_tc.shape, X_tc.type(),y_tc.shape, y_tc.type())"
   ]
  },
  {
   "cell_type": "code",
   "execution_count": 101,
   "metadata": {},
   "outputs": [],
   "source": [
    "# dataset com apenas um valor da label\n",
    "X_label_0 = torch.Tensor(df_num[df_num['bigode']==0].values).type(torch.FloatTensor)\n",
    "X_label_1 = torch.Tensor(df_num[df_num['bigode']==1].values).type(torch.FloatTensor)"
   ]
  },
  {
   "cell_type": "code",
   "execution_count": 103,
   "metadata": {},
   "outputs": [],
   "source": [
    "batch_size = 200\n",
    "torch_dataset = Data.TensorDataset(X_tc,y_tc)\n",
    "loader = Data.DataLoader(\n",
    "        dataset = torch_dataset,\n",
    "        batch_size = batch_size,\n",
    "        pin_memory=True,\n",
    "        shuffle=True)\n",
    "torch_dataset_label1 = Data.TensorDataset(X_label_1)\n",
    "loader_label1 = Data.DataLoader(\n",
    "        dataset = torch_dataset_label1,\n",
    "        batch_size = batch_size,\n",
    "        pin_memory=True,\n",
    "        shuffle=True)\n",
    "torch_dataset_label0 = Data.TensorDataset(X_label_0)\n",
    "loader_label0 = Data.DataLoader(\n",
    "        dataset = torch_dataset_label0,\n",
    "        batch_size = batch_size,\n",
    "        pin_memory=True,\n",
    "        shuffle=True)"
   ]
  },
  {
   "cell_type": "code",
   "execution_count": 104,
   "metadata": {},
   "outputs": [],
   "source": [
    "Z_dim,h_dim,X_dim,y_dim = [10,50,X_tc.shape[1],y_tc.shape[1]]\n",
    "\n",
    "# Arquitetura do Gerador\n",
    "class GNet(torch.nn.Module):\n",
    "    def __init__(self):\n",
    "        super(GNet,self).__init__()\n",
    "        self.hidden = torch.nn.Linear(Z_dim+1, h_dim)\n",
    "        self.out = torch.nn.Linear(h_dim, X_dim)\n",
    "    \n",
    "    def forward(self,z,lg):\n",
    "        h = F.relu(self.hidden(torch.cat((z,lg),dim=1)))\n",
    "        X = torch.sigmoid(self.out(h))\n",
    "        return X\n",
    "\n",
    "# Arquitetura do Discriminador\n",
    "class DNet(torch.nn.Module):\n",
    "    def __init__(self):\n",
    "        super(DNet,self).__init__()\n",
    "        self.hidden = torch.nn.Linear(X_dim, h_dim)\n",
    "        self.out = torch.nn.Linear(h_dim, 1)\n",
    "    \n",
    "    def forward(self,X):\n",
    "        h = F.relu(self.hidden(X))\n",
    "        y = torch.sigmoid(self.out(h))\n",
    "        return y\n",
    "\n",
    "# Arquitetura do Anti_labeler\n",
    "class Antilabeler(torch.nn.Module):\n",
    "    def __init__(self):\n",
    "        super(Antilabeler,self).__init__()\n",
    "        self.hidden = torch.nn.Linear(X_dim, h_dim)\n",
    "        self.out = torch.nn.Linear(h_dim, 1)\n",
    "    \n",
    "    def forward(self,G_sample):\n",
    "        h = F.relu(self.hidden(G_sample))\n",
    "        lg_estimate = torch.sigmoid(self.out(h))\n",
    "        return lg_estimate\n",
    "\n",
    "# Arquitetura do Labeler\n",
    "class Labeler(torch.nn.Module):\n",
    "    def __init__(self):\n",
    "        super(Labeler,self).__init__()\n",
    "        self.hidden = torch.nn.Linear(X_dim, h_dim)\n",
    "        self.out = torch.nn.Linear(h_dim, 1)\n",
    "    \n",
    "    def forward(self,X):\n",
    "        h = F.relu(self.hidden(X))\n",
    "        lr_estimate = torch.sigmoid(self.out(h))\n",
    "        return lr_estimate"
   ]
  },
  {
   "cell_type": "code",
   "execution_count": 105,
   "metadata": {},
   "outputs": [],
   "source": [
    "# Instanciamos as redes\n",
    "G = GNet().cuda()\n",
    "D = DNet().cuda()\n",
    "A = Antilabeler().cuda()\n",
    "L = Labeler().cuda()\n",
    "\n",
    "# Definimos os otimizadores\n",
    "lrg,lrd,lra,lrl = [1e-5,1e-5,1e-3,1e-3]\n",
    "G_optim = optim.Adam(G.parameters(), lr=lrg)\n",
    "D_optim = optim.Adam(D.parameters(), lr=lrd)\n",
    "A_optim = optim.Adam(A.parameters(), lr=lra)\n",
    "L_optim = optim.Adam(L.parameters(), lr=lrl)\n",
    "\n",
    "def init_weights(m):\n",
    "    if type(m) == nn.Linear:\n",
    "        torch.nn.init.xavier_normal_(m.weight).cuda()\n",
    "        m.bias.data.fill_(0.0001)  \n",
    "\n",
    "def reset_grad():\n",
    "    G_optim.zero_grad()\n",
    "    D_optim.zero_grad()\n",
    "    A_optim.zero_grad()\n",
    "    L_optim.zero_grad()\n",
    "\n",
    "ones  = Variable(torch.ones(batch_size, 1)).cuda()\n",
    "zeros = Variable(torch.zeros(batch_size, 1)).cuda()\n",
    "ONES  = Variable(torch.ones(X_dim, 1)).cuda()\n",
    "ZEROS = Variable(torch.zeros(X_dim, 1)).cuda()\n",
    "\n",
    "def nets_test(n_sample,G,D,A,L,rho):\n",
    "    g = G(Variable(torch.randn(n_sample, Z_dim)).cuda(),torch.Tensor([np.random.choice([0,1],p=[1-rho,rho])]*n_sample).reshape(-1,1).cuda())\n",
    "    x = torch.Tensor(X_tc[:n_sample]).cuda()\n",
    "    D_real = D(x)\n",
    "    D_fake = D(g)\n",
    "    A_g = A(g)\n",
    "    L_r = L(x)\n",
    "    print('Average D_real  {:.6f}| Std D_real  {:.6f}'.format(D_real.mean(),D_real.std()))\n",
    "    print('Average D_fake  {:.6f}| Std D_fake  {:.6f}'.format(D_fake.mean(),D_fake.std()))\n",
    "    print('Average Anti-L  {:.6f}| Std Anti-L  {:.6f}'.format(A_g.mean(),A_g.std()))\n",
    "    print('Average Labeler {:.6f}| Std Labeler {:.6f}'.format(L_r.mean(),L_r.std()))"
   ]
  },
  {
   "cell_type": "code",
   "execution_count": 113,
   "metadata": {},
   "outputs": [
    {
     "name": "stdout",
     "output_type": "stream",
     "text": [
      "Epoch-0\n",
      "Average D_real  0.389837| Std D_real  0.068023\n",
      "Average D_fake  0.366328| Std D_fake  0.013426\n",
      "Average Anti-L  0.640820| Std Anti-L  0.010083\n",
      "Average Labeler 0.507950| Std Labeler 0.032182\n",
      "Epoch-10000\n",
      "Average D_real  0.585033| Std D_real  0.059638\n",
      "Average D_fake  0.513461| Std D_fake  0.018979\n",
      "Average Anti-L  0.430858| Std Anti-L  0.239661\n",
      "Average Labeler 0.426761| Std Labeler 0.442806\n",
      "Epoch-20000\n",
      "Average D_real  0.578399| Std D_real  0.077438\n",
      "Average D_fake  0.426694| Std D_fake  0.038311\n",
      "Average Anti-L  0.162513| Std Anti-L  0.181224\n",
      "Average Labeler 0.412536| Std Labeler 0.453491\n",
      "Epoch-30000\n",
      "Average D_real  0.635583| Std D_real  0.109092\n",
      "Average D_fake  0.365980| Std D_fake  0.048957\n",
      "Average Anti-L  0.091777| Std Anti-L  0.163938\n",
      "Average Labeler 0.373116| Std Labeler 0.442937\n",
      "Epoch-40000\n",
      "Average D_real  0.582310| Std D_real  0.131298\n",
      "Average D_fake  0.406064| Std D_fake  0.042958\n",
      "Average Anti-L  0.025534| Std Anti-L  0.099495\n",
      "Average Labeler 0.356141| Std Labeler 0.439736\n",
      "CPU times: user 27min 57s, sys: 10.6 s, total: 28min 7s\n",
      "Wall time: 28min 20s\n"
     ]
    }
   ],
   "source": [
    "%%time\n",
    "epochs = 50000\n",
    "epochs_extra = 5\n",
    "G_his, D_his,A_his,L_his = [[],[],[],[]]\n",
    "losses_his = [G_his,D_his,A_his,L_his]\n",
    "\n",
    "G.apply(init_weights)\n",
    "D.apply(init_weights)\n",
    "A.apply(init_weights)\n",
    "L.apply(init_weights)\n",
    "\n",
    "for epoch in range(epochs):\n",
    "    for i in range(epochs_extra):\n",
    "        batch_data = next(iter(loader))\n",
    "        # Generator\n",
    "        X  = Variable(batch_data[0]).cuda()\n",
    "        Lr = Variable(batch_data[1]).cuda()\n",
    "        Lg = Variable(torch.Tensor([np.random.choice([0,1],p=[1-rho,rho])]*batch_size)).reshape(-1,1).cuda()\n",
    "        z  = Variable(torch.randn(batch_size, Z_dim)).cuda()\n",
    "        Z  = Variable(torch.randn(X_dim, Z_dim)).cuda()\n",
    "        G_sample    = G(z,Lr)\n",
    "        D_real      = D(X)\n",
    "        D_fake      = D(G_sample)\n",
    "        L_l1        = L(G(Z,ONES))\n",
    "        L_l0        = L(G(Z,ZEROS))\n",
    "        A_l1        = A(G(Z,ONES))\n",
    "        A_l0        = A(G(Z,ZEROS))\n",
    "        G_loss      = (torch.mean(torch.log((1-D_fake)/(D_fake))) \\\n",
    "                  - (rho*torch.mean(torch.log(L_l1)) + (1-rho)*torch.mean(torch.log(1-L_l0))) \\\n",
    "                  + (rho*torch.mean(torch.log(A_l1)) + (1-rho)*torch.mean(torch.log(1-A_l0))))\n",
    "        G_loss.backward()\n",
    "        G_optim.step()\n",
    "        reset_grad()\n",
    "        \n",
    "    batch_data = next(iter(loader))\n",
    "    X_l1 = Variable(next(iter(torch_dataset_label1))[0]).cuda()\n",
    "    X_l0 = Variable(next(iter(torch_dataset_label0))[0]).cuda()\n",
    "    X    = Variable(batch_data[0]).cuda()\n",
    "    Lr   = Variable(batch_data[1]).cuda()\n",
    "    Lg   = Variable(torch.Tensor([np.random.choice([0,1],p=[1-rho,rho])]*batch_size)).reshape(-1,1).cuda()\n",
    "    z    = Variable(torch.randn(batch_size, Z_dim)).cuda()   \n",
    "    \n",
    "    # Discriminador\n",
    "    G_sample = G(z,Lr)\n",
    "    D_real   = D(X)\n",
    "    D_fake   = D(G_sample)\n",
    "    D_loss   = -(torch.mean(torch.log(D_real)) + torch.mean(torch.log((1-D_fake))))\n",
    "    D_loss.backward(retain_graph=True)\n",
    "    D_optim.step()\n",
    "\n",
    "    # Antilabeler\n",
    "    A_l1   = A(G(z,ones))\n",
    "    A_l0   = A(G(z,zeros))\n",
    "    A_loss = -(rho*torch.mean(torch.log(A_l1)) + (1-rho)*torch.mean(torch.log(1-A_l0)))\n",
    "    A_loss.backward()\n",
    "    A_optim.step()\n",
    "\n",
    "    # Labeler\n",
    "    L_l1   = L(X_l1)\n",
    "    L_l0   = L(X_l0)    \n",
    "    L_loss = -(rho*torch.mean(torch.log(L_l1)) + (1-rho)*torch.mean(torch.log(1-L_l0)))\n",
    "    L_loss.backward()\n",
    "    L_optim.step()\n",
    "    reset_grad()\n",
    "    \n",
    "    # losses\n",
    "    G_his.append(G_loss.mean().data)\n",
    "    D_his.append(D_loss.mean().data)\n",
    "    A_his.append(A_loss.mean().data)\n",
    "    L_his.append(L_loss.mean().data)\n",
    "\n",
    "    if epoch % int(epochs/5) == 0:\n",
    "        print('Epoch-{}'.format(epoch))\n",
    "        nets_test(5000,G,D,A,L,rho)"
   ]
  },
  {
   "cell_type": "code",
   "execution_count": 114,
   "metadata": {},
   "outputs": [
    {
     "name": "stdout",
     "output_type": "stream",
     "text": [
      "p = P(l=1)\n",
      "Average D_real  0.550441| Std D_real  0.099175\n",
      "Average D_fake  0.555629| Std D_fake  0.057730\n",
      "Average Anti-L  0.999408| Std Anti-L  0.016970\n",
      "Average Labeler 0.353185| Std Labeler 0.439528\n",
      "p = P(x|l=0)\n",
      "Average D_real  0.550441| Std D_real  0.099175\n",
      "Average D_fake  0.436471| Std D_fake  0.081397\n",
      "Average Anti-L  0.000237| Std Anti-L  0.008815\n",
      "Average Labeler 0.353185| Std Labeler 0.439528\n",
      "p = P(x|l=1)\n",
      "Average D_real  0.550441| Std D_real  0.099175\n",
      "Average D_fake  0.555913| Std D_fake  0.058407\n",
      "Average Anti-L  0.999247| Std Anti-L  0.020704\n",
      "Average Labeler 0.353185| Std Labeler 0.439528\n"
     ]
    }
   ],
   "source": [
    "print('p = P(l=1)')\n",
    "nets_test(5000,G,D,A,L,rho)\n",
    "print('p = P(x|l=0)')\n",
    "nets_test(5000,G,D,A,L,0.)\n",
    "print('p = P(x|l=1)')\n",
    "nets_test(5000,G,D,A,L,1.)"
   ]
  },
  {
   "cell_type": "code",
   "execution_count": 115,
   "metadata": {},
   "outputs": [
    {
     "data": {
      "image/png": "[encoded data removed]",
      "text/plain": [
       "<Figure size 1440x576 with 4 Axes>"
      ]
     },
     "metadata": {
      "needs_background": "light"
     },
     "output_type": "display_data"
    }
   ],
   "source": [
    "plot_losses(losses_his)"
   ]
  },
  {
   "cell_type": "code",
   "execution_count": 143,
   "metadata": {},
   "outputs": [],
   "source": [
    "g = G(Variable(torch.randn(30000, Z_dim)).cuda(),torch.Tensor([np.random.choice([0,1],p=[1-rho,rho])]*30000).reshape(-1,1).cuda())\n",
    "# g = G(Variable(torch.randn(30000, Z_dim)).cuda(),torch.Tensor([1]*30000).reshape(-1,1).cuda())"
   ]
  },
  {
   "cell_type": "code",
   "execution_count": 144,
   "metadata": {},
   "outputs": [],
   "source": [
    "df_g = pd.DataFrame(data=np.round(g.cpu().data.numpy(),0),columns=df_num.columns).astype(int)"
   ]
  },
  {
   "cell_type": "code",
   "execution_count": 145,
   "metadata": {},
   "outputs": [
    {
     "name": "stdout",
     "output_type": "stream",
     "text": [
      "mulheres de bigode: 903| homens de bigode: 13024\n",
      "novos de oculos: 20577| velhos de oculos: 8912\n"
     ]
    }
   ],
   "source": [
    "#dataset fake\n",
    "print('mulheres de bigode: {}| homens de bigode: {}'\\\n",
    "      .format(df_g[(df_g['genero']==0)&(df_g['bigode']==1)].shape[0],\n",
    "             df_g[(df_g['genero']==1)&(df_g['bigode']==1)].shape[0]))\n",
    "print('novos de oculos: {}| velhos de oculos: {}'\\\n",
    "      .format(df_g[(df_g['idade']==0)&(df_g['oculos']==1)].shape[0],\n",
    "             df_g[(df_g['idade']==1)&(df_g['oculos']==1)].shape[0]))"
   ]
  },
  {
   "cell_type": "code",
   "execution_count": 146,
   "metadata": {},
   "outputs": [
    {
     "name": "stdout",
     "output_type": "stream",
     "text": [
      "mulheres de bigode: 0| homens de bigode: 7200\n",
      "novos de oculos: 3926| velhos de oculos: 6368\n"
     ]
    }
   ],
   "source": [
    "#dataset real\n",
    "print('mulheres de bigode: {}| homens de bigode: {}'\\\n",
    "      .format(df_num[(df_num['genero']==0)&(df_num['bigode']==1)].shape[0],\n",
    "             df_num[(df_num['genero']==1)&(df_num['bigode']==1)].shape[0]))\n",
    "print('novos de oculos: {}| velhos de oculos: {}'\\\n",
    "      .format(df_num[(df_num['idade']==0)&(df_num['oculos']==1)].shape[0],\n",
    "             df_num[(df_num['idade']==1)&(df_num['oculos']==1)].shape[0]))"
   ]
  },
  {
   "cell_type": "code",
   "execution_count": 147,
   "metadata": {},
   "outputs": [
    {
     "name": "stdout",
     "output_type": "stream",
     "text": [
      "mulheres carecas: 0| homens carecas: 3872\n",
      "novos carecas: 2894| velhos carecas: 978\n"
     ]
    }
   ],
   "source": [
    "#dataset fake\n",
    "print('mulheres carecas: {}| homens carecas: {}'\\\n",
    "      .format(df_g[(df_g['genero']==0)&(df_g['careca']==1)].shape[0],\n",
    "             df_g[(df_g['genero']==1)&(df_g['careca']==1)].shape[0]))\n",
    "print('novos carecas: {}| velhos carecas: {}'\\\n",
    "      .format(df_g[(df_g['idade']==0)&(df_g['careca']==1)].shape[0],\n",
    "             df_g[(df_g['idade']==1)&(df_g['careca']==1)].shape[0]))"
   ]
  },
  {
   "cell_type": "code",
   "execution_count": 148,
   "metadata": {},
   "outputs": [
    {
     "name": "stdout",
     "output_type": "stream",
     "text": [
      "mulheres carecas: 0| homens carecas: 5258\n",
      "novos carecas: 1793| velhos carecas: 3465\n"
     ]
    }
   ],
   "source": [
    "#dataset real\n",
    "print('mulheres carecas: {}| homens carecas: {}'\\\n",
    "      .format(df_num[(df_num['genero']==0)&(df_num['careca']==1)].shape[0],\n",
    "             df_num[(df_num['genero']==1)&(df_num['careca']==1)].shape[0]))\n",
    "print('novos carecas: {}| velhos carecas: {}'\\\n",
    "      .format(df_num[(df_num['idade']==0)&(df_num['careca']==1)].shape[0],\n",
    "             df_num[(df_num['idade']==1)&(df_num['careca']==1)].shape[0]))"
   ]
  },
  {
   "cell_type": "code",
   "execution_count": 149,
   "metadata": {},
   "outputs": [
    {
     "name": "stdout",
     "output_type": "stream",
     "text": [
      "proporcao de novos sem oculos: 0.0240\n",
      "proporcao de velhos sem oculos: 0.0016\n"
     ]
    }
   ],
   "source": [
    "#dataset fake\n",
    "print('proporcao de novos sem oculos: {:.4f}'\\\n",
    "      .format(df_g[(df_g['idade']==0)&(df_g['oculos']==0)].shape[0]/\\\n",
    "             df_g[df_g['idade']==0].shape[0]))\n",
    "print('proporcao de velhos sem oculos: {:.4f}'\\\n",
    "      .format(df_g[(df_g['idade']==1)&(df_g['oculos']==0)].shape[0]/\\\n",
    "             df_g[df_g['idade']==1].shape[0]+0.001))"
   ]
  },
  {
   "cell_type": "code",
   "execution_count": 150,
   "metadata": {},
   "outputs": [
    {
     "name": "stdout",
     "output_type": "stream",
     "text": [
      "proporcao de novos sem oculos: 0.7982\n",
      "proporcao de velhos sem oculos: 0.3962\n"
     ]
    }
   ],
   "source": [
    "#dataset real\n",
    "print('proporcao de novos sem oculos: {:.4f}'\\\n",
    "      .format(df_num[(df_num['idade']==0)&(df_num['oculos']==0)].shape[0]/\\\n",
    "             df_num[df_num['idade']==0].shape[0]))\n",
    "print('proporcao de velhos sem oculos: {:.4f}'\\\n",
    "      .format(df_num[(df_num['idade']==1)&(df_num['oculos']==0)].shape[0]/\\\n",
    "             df_num[df_num['idade']==1].shape[0]))"
   ]
  },
  {
   "cell_type": "code",
   "execution_count": 151,
   "metadata": {},
   "outputs": [
    {
     "name": "stdout",
     "output_type": "stream",
     "text": [
      "variacao de genero em relacao ao real: -12.37%\n",
      "variacao de idade em relacao ao real: -8.37%\n",
      "variacao de oculos em relacao ao real: -49.64%\n",
      "variacao de bigode em relacao ao real: 29.50%\n",
      "variacao de careca em relacao ao real: -5.60%\n",
      "variacao de regiao_0 em relacao ao real: -21.08%\n",
      "variacao de regiao_1 em relacao ao real: -35.62%\n",
      "variacao de regiao_2 em relacao ao real: -65.66%\n",
      "variacao de regiao_3 em relacao ao real: -10.13%\n",
      "variacao de cabelo_0 em relacao ao real: -88.35%\n",
      "variacao de cabelo_1 em relacao ao real: 15.99%\n",
      "variacao de cabelo_2 em relacao ao real: -0.14%\n",
      "variacao de cabelo_3 em relacao ao real: 19.69%\n"
     ]
    }
   ],
   "source": [
    "for col in df_num.columns:\n",
    "    print('variacao de {} em relacao ao real: {:.2%}'\\\n",
    "          .format(col,\n",
    "                  (df_num[col].value_counts().values[0]-df_g[col].value_counts().values[0])/df_num[col].value_counts().values[0]))"
   ]
  },
  {
   "cell_type": "code",
   "execution_count": null,
   "metadata": {},
   "outputs": [],
   "source": []
  }
 ],
 "metadata": {
  "kernelspec": {
   "display_name": "Python 3",
   "language": "python",
   "name": "python3"
  },
  "language_info": {
   "codemirror_mode": {
    "name": "ipython",
    "version": 3
   },
   "file_extension": ".py",
   "mimetype": "text/x-python",
   "name": "python",
   "nbconvert_exporter": "python",
   "pygments_lexer": "ipython3",
   "version": "3.6.9"
  }
 },
 "nbformat": 4,
 "nbformat_minor": 4
}
