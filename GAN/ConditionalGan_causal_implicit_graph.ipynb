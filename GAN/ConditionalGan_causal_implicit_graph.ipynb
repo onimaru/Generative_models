{
 "cells": [
  {
   "cell_type": "markdown",
   "metadata": {},
   "source": [
    "# Implementar o Conditional GAN\n",
    "\n",
    "- Usar Conditional GAN: [Conditional Generative Adversarial Nets](https://arxiv.org/abs/1411.1784) com o dataset criado a partir de um grafo causal implícito"
   ]
  },
  {
   "cell_type": "markdown",
   "metadata": {},
   "source": [
    "## Construir o Dataset"
   ]
  },
  {
   "cell_type": "code",
   "execution_count": 1,
   "metadata": {},
   "outputs": [],
   "source": [
    "import numpy as np\n",
    "import pandas as pd"
   ]
  },
  {
   "cell_type": "markdown",
   "metadata": {},
   "source": [
    "![](../images/causal_graph.png)"
   ]
  },
  {
   "cell_type": "code",
   "execution_count": 2,
   "metadata": {},
   "outputs": [],
   "source": [
    "n_samples = 60000\n",
    "genero = np.random.choice([0,1],size=n_samples,p=[0.53,0.47]).reshape(n_samples,1)\n",
    "idade = np.random.choice([0,1],size=n_samples,p=[0.65,0.35]).reshape(n_samples,1)\n",
    "regiao = np.random.choice([0,1,2,3],size=n_samples,p=[0.2,0.3,0.4,0.1]).reshape(n_samples,1)"
   ]
  },
  {
   "cell_type": "code",
   "execution_count": 3,
   "metadata": {},
   "outputs": [],
   "source": [
    "def gen_bigode(genero,idade):\n",
    "    prob_bigode_velho = [0.4,0.6]\n",
    "    prob_bigode_novo = [0.55,0.45]\n",
    "    bigode = np.zeros(shape=(genero.shape[0],1))\n",
    "    for i in range(genero.shape[0]):\n",
    "        if genero[i] == 1 and idade[i]==1:\n",
    "            bigode[i] = np.random.choice([0,1],p=prob_bigode_velho)\n",
    "        elif genero[i] == 1 and idade[i]==0:\n",
    "            bigode[i] = np.random.choice([0,1],p=prob_bigode_novo)\n",
    "    return bigode\n",
    "\n",
    "def gen_careca(genero,idade):\n",
    "    prob_careca_velho = [0.3,0.7]\n",
    "    prob_careca_novo = [0.8,0.2]\n",
    "    careca = np.zeros(shape=(genero.shape[0],1))\n",
    "    for i in range(genero.shape[0]):\n",
    "        if genero[i] == 1 and idade[i]==1:\n",
    "            careca[i] = np.random.choice([0,1],p=prob_careca_velho)\n",
    "        if genero[i] == 1 and idade[i]==0:\n",
    "            careca[i] = np.random.choice([0,1],p=prob_careca_novo)\n",
    "    return careca\n",
    "\n",
    "def gen_cabelo(regiao,careca):\n",
    "    prob_cabelo_america = [0.45,0.40,0.15]\n",
    "    prob_cabelo_europa = [0.35,0.40,0.25]\n",
    "    prob_cabelo_asia = [0.9,0.09,0.01]\n",
    "    prob_cabelo_oceania = [0.4,0.5,0.1]\n",
    "    cabelo = np.zeros(shape=(regiao.shape[0],1))\n",
    "    for i in range(regiao.shape[0]):\n",
    "        if careca[i] == 0 and regiao[i]==0:\n",
    "            cabelo[i] = np.random.choice([0,1,2],p=prob_cabelo_america)\n",
    "        elif careca[i] == 0 and regiao[i]==1:\n",
    "            cabelo[i] = np.random.choice([0,1,2],p=prob_cabelo_europa)\n",
    "        elif careca[i] == 0 and regiao[i]==2:\n",
    "            cabelo[i] = np.random.choice([0,1,2],p=prob_cabelo_asia)\n",
    "        elif careca[i] == 0 and regiao[i]==3:\n",
    "            cabelo[i] = np.random.choice([0,1,2],p=prob_cabelo_oceania)\n",
    "        elif careca[i] == 1:\n",
    "            cabelo[i] = 3\n",
    "    return cabelo\n",
    "\n",
    "def gen_oculos(idade):\n",
    "    prob_oculos_velho = [0.4,0.6]\n",
    "    prob_oculos_novo = [0.8,0.2]\n",
    "    oculos = np.zeros(shape=(idade.shape[0],1))\n",
    "    for i in range(idade.shape[0]):\n",
    "        if idade[i] == 1:\n",
    "            oculos[i] = np.random.choice([0,1],p=prob_oculos_velho)\n",
    "        elif idade[i] == 0:\n",
    "            oculos[i] = np.random.choice([0,1],p=prob_oculos_novo)\n",
    "    return oculos"
   ]
  },
  {
   "cell_type": "code",
   "execution_count": 4,
   "metadata": {},
   "outputs": [],
   "source": [
    "bigode = gen_bigode(genero,idade)\n",
    "oculos = gen_oculos(idade)\n",
    "careca = gen_careca(genero,idade)\n",
    "cabelo = gen_cabelo(regiao,careca)"
   ]
  },
  {
   "cell_type": "code",
   "execution_count": 5,
   "metadata": {},
   "outputs": [],
   "source": [
    "X_features = np.concatenate((genero,idade,cabelo,regiao,oculos,bigode,careca),axis=1)"
   ]
  },
  {
   "cell_type": "code",
   "execution_count": 6,
   "metadata": {},
   "outputs": [],
   "source": [
    "df_num_ = pd.DataFrame(data=X_features,columns=['genero','idade','cabelo','regiao','oculos','bigode','careca']).astype(int)\n",
    "df_num = df_num_[['genero','idade','oculos','bigode','careca']].copy()"
   ]
  },
  {
   "cell_type": "code",
   "execution_count": 7,
   "metadata": {},
   "outputs": [],
   "source": [
    "df_num = pd.concat([df_num,pd.get_dummies(df_num_['regiao'],prefix='regiao',prefix_sep='_')],axis=1)\n",
    "df_num = pd.concat([df_num,pd.get_dummies(df_num_['cabelo'],prefix='cabelo',prefix_sep='_')],axis=1)"
   ]
  },
  {
   "cell_type": "code",
   "execution_count": 8,
   "metadata": {},
   "outputs": [
    {
     "data": {
      "text/html": [
       "<div>\n",
       "<style scoped>\n",
       "    .dataframe tbody tr th:only-of-type {\n",
       "        vertical-align: middle;\n",
       "    }\n",
       "\n",
       "    .dataframe tbody tr th {\n",
       "        vertical-align: top;\n",
       "    }\n",
       "\n",
       "    .dataframe thead th {\n",
       "        text-align: right;\n",
       "    }\n",
       "</style>\n",
       "<table border=\"1\" class=\"dataframe\">\n",
       "  <thead>\n",
       "    <tr style=\"text-align: right;\">\n",
       "      <th></th>\n",
       "      <th>genero</th>\n",
       "      <th>idade</th>\n",
       "      <th>oculos</th>\n",
       "      <th>bigode</th>\n",
       "      <th>careca</th>\n",
       "      <th>regiao_0</th>\n",
       "      <th>regiao_1</th>\n",
       "      <th>regiao_2</th>\n",
       "      <th>regiao_3</th>\n",
       "      <th>cabelo_0</th>\n",
       "      <th>cabelo_1</th>\n",
       "      <th>cabelo_2</th>\n",
       "      <th>cabelo_3</th>\n",
       "    </tr>\n",
       "  </thead>\n",
       "  <tbody>\n",
       "    <tr>\n",
       "      <th>0</th>\n",
       "      <td>1</td>\n",
       "      <td>0</td>\n",
       "      <td>0</td>\n",
       "      <td>0</td>\n",
       "      <td>1</td>\n",
       "      <td>0</td>\n",
       "      <td>1</td>\n",
       "      <td>0</td>\n",
       "      <td>0</td>\n",
       "      <td>0</td>\n",
       "      <td>0</td>\n",
       "      <td>0</td>\n",
       "      <td>1</td>\n",
       "    </tr>\n",
       "    <tr>\n",
       "      <th>1</th>\n",
       "      <td>1</td>\n",
       "      <td>0</td>\n",
       "      <td>1</td>\n",
       "      <td>0</td>\n",
       "      <td>0</td>\n",
       "      <td>0</td>\n",
       "      <td>0</td>\n",
       "      <td>1</td>\n",
       "      <td>0</td>\n",
       "      <td>1</td>\n",
       "      <td>0</td>\n",
       "      <td>0</td>\n",
       "      <td>0</td>\n",
       "    </tr>\n",
       "  </tbody>\n",
       "</table>\n",
       "</div>"
      ],
      "text/plain": [
       "   genero  idade  oculos  bigode  careca  regiao_0  regiao_1  regiao_2  \\\n",
       "0       1      0       0       0       1         0         1         0   \n",
       "1       1      0       1       0       0         0         0         1   \n",
       "\n",
       "   regiao_3  cabelo_0  cabelo_1  cabelo_2  cabelo_3  \n",
       "0         0         0         0         0         1  \n",
       "1         0         1         0         0         0  "
      ]
     },
     "execution_count": 8,
     "metadata": {},
     "output_type": "execute_result"
    }
   ],
   "source": [
    "df_num.head(2)"
   ]
  },
  {
   "cell_type": "code",
   "execution_count": 9,
   "metadata": {},
   "outputs": [],
   "source": [
    "tradutor = {\"genero\":{0:\"mulher\",1:\"homem\"},\n",
    "           \"idade\":{0:\"novo\",1:\"velho\"},\n",
    "            \"cabelo\":{0:\"escuro\",1:\"claro\",2:\"vermelho\",3:\"ausente\"},\n",
    "            \"regiao\":{0:\"america\",1:\"europa\",2:\"asia\",3:\"oceania\"},\n",
    "            \"oculos\":{0:\"sem oculos\",1:\"com oculos\"},\n",
    "            \"bigode\":{0:\"sem bigode\",1:\"com bigode\"},\n",
    "            \"careca\":{0:\"nao\",1:\"sim\"}\n",
    "           }"
   ]
  },
  {
   "cell_type": "code",
   "execution_count": 10,
   "metadata": {},
   "outputs": [],
   "source": [
    "df_text = df_num_.copy()"
   ]
  },
  {
   "cell_type": "code",
   "execution_count": 11,
   "metadata": {},
   "outputs": [],
   "source": [
    "for col in df_num_.columns:\n",
    "    df_text[col] = df_num_[col].map(tradutor[col])"
   ]
  },
  {
   "cell_type": "code",
   "execution_count": 12,
   "metadata": {},
   "outputs": [
    {
     "data": {
      "text/html": [
       "<div>\n",
       "<style scoped>\n",
       "    .dataframe tbody tr th:only-of-type {\n",
       "        vertical-align: middle;\n",
       "    }\n",
       "\n",
       "    .dataframe tbody tr th {\n",
       "        vertical-align: top;\n",
       "    }\n",
       "\n",
       "    .dataframe thead th {\n",
       "        text-align: right;\n",
       "    }\n",
       "</style>\n",
       "<table border=\"1\" class=\"dataframe\">\n",
       "  <thead>\n",
       "    <tr style=\"text-align: right;\">\n",
       "      <th></th>\n",
       "      <th>genero</th>\n",
       "      <th>idade</th>\n",
       "      <th>cabelo</th>\n",
       "      <th>regiao</th>\n",
       "      <th>oculos</th>\n",
       "      <th>bigode</th>\n",
       "      <th>careca</th>\n",
       "    </tr>\n",
       "  </thead>\n",
       "  <tbody>\n",
       "    <tr>\n",
       "      <th>0</th>\n",
       "      <td>homem</td>\n",
       "      <td>novo</td>\n",
       "      <td>ausente</td>\n",
       "      <td>europa</td>\n",
       "      <td>sem oculos</td>\n",
       "      <td>sem bigode</td>\n",
       "      <td>sim</td>\n",
       "    </tr>\n",
       "    <tr>\n",
       "      <th>1</th>\n",
       "      <td>homem</td>\n",
       "      <td>novo</td>\n",
       "      <td>escuro</td>\n",
       "      <td>asia</td>\n",
       "      <td>com oculos</td>\n",
       "      <td>sem bigode</td>\n",
       "      <td>nao</td>\n",
       "    </tr>\n",
       "    <tr>\n",
       "      <th>2</th>\n",
       "      <td>homem</td>\n",
       "      <td>novo</td>\n",
       "      <td>escuro</td>\n",
       "      <td>asia</td>\n",
       "      <td>com oculos</td>\n",
       "      <td>sem bigode</td>\n",
       "      <td>nao</td>\n",
       "    </tr>\n",
       "    <tr>\n",
       "      <th>3</th>\n",
       "      <td>mulher</td>\n",
       "      <td>novo</td>\n",
       "      <td>escuro</td>\n",
       "      <td>asia</td>\n",
       "      <td>sem oculos</td>\n",
       "      <td>sem bigode</td>\n",
       "      <td>nao</td>\n",
       "    </tr>\n",
       "    <tr>\n",
       "      <th>4</th>\n",
       "      <td>mulher</td>\n",
       "      <td>velho</td>\n",
       "      <td>escuro</td>\n",
       "      <td>asia</td>\n",
       "      <td>sem oculos</td>\n",
       "      <td>sem bigode</td>\n",
       "      <td>nao</td>\n",
       "    </tr>\n",
       "  </tbody>\n",
       "</table>\n",
       "</div>"
      ],
      "text/plain": [
       "   genero  idade   cabelo  regiao      oculos      bigode careca\n",
       "0   homem   novo  ausente  europa  sem oculos  sem bigode    sim\n",
       "1   homem   novo   escuro    asia  com oculos  sem bigode    nao\n",
       "2   homem   novo   escuro    asia  com oculos  sem bigode    nao\n",
       "3  mulher   novo   escuro    asia  sem oculos  sem bigode    nao\n",
       "4  mulher  velho   escuro    asia  sem oculos  sem bigode    nao"
      ]
     },
     "execution_count": 12,
     "metadata": {},
     "output_type": "execute_result"
    }
   ],
   "source": [
    "df_text.head()"
   ]
  },
  {
   "cell_type": "code",
   "execution_count": 13,
   "metadata": {},
   "outputs": [
    {
     "name": "stdout",
     "output_type": "stream",
     "text": [
      "Mulheres com bigode: 0\n",
      "Mulheres carecas: 0\n",
      "Carecas com cabelo: 0\n"
     ]
    }
   ],
   "source": [
    "print(f\"Mulheres com bigode: {df_num[(df_num['genero']==0)&(df_num['bigode']==1)].shape[0]}\")\n",
    "print(f\"Mulheres carecas: {df_num[(df_num['genero']==0)&(df_num['careca']==1)].shape[0]}\")\n",
    "print(f\"Carecas com cabelo: {df_num[(df_num['careca']==1)&(df_num['cabelo_3']!=1)].shape[0]}\")"
   ]
  },
  {
   "cell_type": "markdown",
   "metadata": {},
   "source": [
    "---\n",
    "### Funções de auxílio"
   ]
  },
  {
   "cell_type": "code",
   "execution_count": 14,
   "metadata": {},
   "outputs": [],
   "source": [
    "def plot_losses(losses_his):\n",
    "    plt.figure(figsize=(20,8))\n",
    "    plt.subplot(221)\n",
    "    plt.plot(losses_his[0])\n",
    "    plt.grid(True)\n",
    "    plt.xlabel('Epochs')\n",
    "    plt.ylabel('Loss: Gerador')\n",
    "    plt.subplot(222)\n",
    "    plt.plot(losses_his[1])\n",
    "    plt.grid(True)\n",
    "    plt.xlabel('Epochs')\n",
    "    plt.ylabel('Loss: Discriminador')\n",
    "    plt.subplot(223)\n",
    "    plt.plot(losses_his[2])\n",
    "    plt.grid(True)\n",
    "    plt.xlabel('Epochs')\n",
    "    plt.ylabel('Loss: D real')\n",
    "    plt.subplot(224)\n",
    "    plt.plot(losses_his[3])\n",
    "    plt.grid(True)\n",
    "    plt.xlabel('Epochs')\n",
    "    plt.ylabel('Loss: D fake')\n",
    "#     plt.savefig('images/losses_plot',quality=100)\n",
    "    plt.show()"
   ]
  },
  {
   "cell_type": "markdown",
   "metadata": {},
   "source": [
    "---"
   ]
  },
  {
   "cell_type": "markdown",
   "metadata": {},
   "source": [
    "## ConditionalGAN\n",
    "\n",
    "- Label: usaremos apenas um label, `bigode`.\n",
    "- Gerador: receberá o ruído `z` e a label `y` e retornará o dado `G(z,y)`.\n",
    "- Discriminador: receberá `G(z,y)` e `z` e retornará a probabilidade do dado ser real."
   ]
  },
  {
   "cell_type": "code",
   "execution_count": 15,
   "metadata": {},
   "outputs": [],
   "source": [
    "import torch\n",
    "import torch.utils.data as Data\n",
    "import torch.nn.functional as F\n",
    "from torch import optim\n",
    "from torch.autograd import Variable\n",
    "from torch import nn\n",
    "import matplotlib.pyplot as plt\n",
    "import seaborn as sns"
   ]
  },
  {
   "cell_type": "code",
   "execution_count": 16,
   "metadata": {},
   "outputs": [
    {
     "data": {
      "text/plain": [
       "0.23728333333333335"
      ]
     },
     "execution_count": 16,
     "metadata": {},
     "output_type": "execute_result"
    }
   ],
   "source": [
    "# probabilidade de ocorre bigode=1 no dataset\n",
    "rho = df_num[df_num[\"bigode\"]==1].shape[0]/df_num.shape[0]\n",
    "rho"
   ]
  },
  {
   "cell_type": "code",
   "execution_count": 17,
   "metadata": {},
   "outputs": [
    {
     "name": "stdout",
     "output_type": "stream",
     "text": [
      "torch.Size([60000, 12]) torch.FloatTensor torch.Size([60000, 2]) torch.FloatTensor\n"
     ]
    }
   ],
   "source": [
    "X_data = df_num.drop(\"bigode\",axis=1).copy().values\n",
    "y_data = pd.get_dummies(df_num[\"bigode\"]).values.reshape(X_data.shape[0],2)\n",
    "X_tc = torch.Tensor(X_data).type(torch.FloatTensor)\n",
    "y_tc = torch.Tensor(y_data).type(torch.FloatTensor)\n",
    "print(X_tc.shape, X_tc.type(),y_tc.shape, y_tc.type())"
   ]
  },
  {
   "cell_type": "code",
   "execution_count": 19,
   "metadata": {},
   "outputs": [],
   "source": [
    "Z_dim,h_dim,X_dim,y_dim = [100,50,X_tc.shape[1],y_tc.shape[1]]\n",
    "\n",
    "# Arquitetura do Gerador\n",
    "class GNet(torch.nn.Module):\n",
    "    def __init__(self):\n",
    "        super(GNet,self).__init__()\n",
    "        self.hidden = torch.nn.Linear(Z_dim+y_dim, h_dim)\n",
    "        self.out = torch.nn.Linear(h_dim, X_dim)\n",
    "    \n",
    "    def forward(self,z,l):\n",
    "        h = F.relu(self.hidden(torch.cat((z,l),dim=1)))\n",
    "        h = nn.Dropout(p=0.7)(h)\n",
    "        X = torch.sigmoid(self.out(h))\n",
    "        return X\n",
    "\n",
    "# Arquitetura do Discriminador\n",
    "class DNet(torch.nn.Module):\n",
    "    def __init__(self):\n",
    "        super(DNet,self).__init__()\n",
    "        self.hidden = torch.nn.Linear(X_dim+y_dim, h_dim)\n",
    "        self.out = torch.nn.Linear(h_dim, 1)\n",
    "    \n",
    "    def forward(self,X,l):\n",
    "        h = F.relu(self.hidden(torch.cat((X,l),dim=1)))\n",
    "        h = nn.Dropout(p=0.7)(h)\n",
    "        y = torch.sigmoid(self.out(h))\n",
    "        return y"
   ]
  },
  {
   "cell_type": "code",
   "execution_count": 20,
   "metadata": {},
   "outputs": [],
   "source": [
    "# Instanciamos as redes\n",
    "G = GNet().cuda()\n",
    "D = DNet().cuda()\n",
    "\n",
    "# Definimos os otimizadores\n",
    "lrg,lrd = [1e-3,1e-3]\n",
    "G_optim = optim.Adam(G.parameters())\n",
    "D_optim = optim.Adam(D.parameters())\n",
    "\n",
    "def reset_grad():\n",
    "    G_optim.zero_grad()\n",
    "    D_optim.zero_grad()\n",
    "    \n",
    "batch = X_tc.shape[0]\n",
    "ones  = Variable(torch.ones(batch, 1)).cuda()\n",
    "zeros = Variable(torch.zeros(batch, 1)).cuda()\n",
    "D_loss_real_func = nn.BCELoss()  \n",
    "D_loss_fake_func = nn.BCELoss()\n",
    "G_loss_func = nn.BCELoss()\n",
    "\n",
    "def nets_test(n_sample,G,D):\n",
    "    z = Variable(torch.randn(n_sample, Z_dim)).cuda()\n",
    "    x = torch.Tensor(X_tc[:n_sample]).cuda()\n",
    "    l = torch.Tensor(y_tc[:n_sample]).cuda()\n",
    "    g = G(z,l)\n",
    "    D_real = D(x,l)\n",
    "    D_fake = D(g,l)\n",
    "    print('Average D_real  {:.6f}| Std D_real  {:.6f}'.format(D_real.mean(),D_real.std()))\n",
    "    print('Average D_fake  {:.6f}| Std D_fake  {:.6f}'.format(D_fake.mean(),D_fake.std()))"
   ]
  },
  {
   "cell_type": "code",
   "execution_count": 21,
   "metadata": {},
   "outputs": [
    {
     "name": "stdout",
     "output_type": "stream",
     "text": [
      "Epoch-2500| Average D_loss: 1.31994| Average G_loss: 0.77941| Average D_real: 0.65784 | Average D_fake: 0.66210\n",
      "Average D_real  0.525604| Std D_real  0.090603\n",
      "Average D_fake  0.475087| Std D_fake  0.097876\n",
      "Epoch-5000| Average D_loss: 1.34370| Average G_loss: 0.76036| Average D_real: 0.66781 | Average D_fake: 0.67589\n",
      "Average D_real  0.516653| Std D_real  0.070921\n",
      "Average D_fake  0.483307| Std D_fake  0.084937\n",
      "Epoch-7500| Average D_loss: 1.34551| Average G_loss: 0.76895| Average D_real: 0.67119 | Average D_fake: 0.67433\n",
      "Average D_real  0.515549| Std D_real  0.070378\n",
      "Average D_fake  0.485526| Std D_fake  0.084335\n",
      "CPU times: user 12min 50s, sys: 11.3 s, total: 13min 1s\n",
      "Wall time: 13min 2s\n"
     ]
    }
   ],
   "source": [
    "%%time\n",
    "epochs = 10000\n",
    "\n",
    "G_his, D_his, D_real_his, D_fake_his = [[],[],[],[]]\n",
    "losses_his = [G_his,D_his,D_real_his,D_fake_his] \n",
    "\n",
    "for epoch in range(epochs):\n",
    "    # Amostragem de dados\n",
    "    z = Variable(torch.randn(batch, Z_dim)).cuda()\n",
    "    X = X_tc.cuda()\n",
    "    l = y_tc.cuda()\n",
    "    # Dicriminador\n",
    "    G_sample = G(z,l)\n",
    "    D_real = D(X,l)\n",
    "    D_fake = D(G_sample,l)\n",
    "    D_loss_real = D_loss_real_func(D_real, ones)\n",
    "    D_loss_fake = D_loss_fake_func(D_fake, zeros)\n",
    "    D_loss = D_loss_real + D_loss_fake\n",
    "    D_loss.backward()\n",
    "    D_optim.step()\n",
    "    reset_grad()\n",
    "    # Generador\n",
    "    z = Variable(torch.randn(batch, Z_dim)).cuda()\n",
    "    G_sample = G(z,l)\n",
    "    D_fake = D(G_sample,l)\n",
    "    G_loss = G_loss_func(D_fake, ones)\n",
    "    G_loss.backward()\n",
    "    G_optim.step()\n",
    "    reset_grad()\n",
    "    # Recolher dados das funções de perda\n",
    "    G_his.append(G_loss.data)\n",
    "    D_his.append(D_loss.data)\n",
    "    D_fake_his.append(D_loss_fake.data)\n",
    "    D_real_his.append(D_loss_real.data)\n",
    "    # Mostrar dados ao longo das epochs\n",
    "    if epoch % int(epochs/4) == 0 and epoch > 0:\n",
    "        print('Epoch-{}| Average D_loss: {:.5f}| Average G_loss: {:.5f}| Average D_real: {:.5f} | Average D_fake: {:.5f}'.format(\n",
    "            epoch, D_loss.data, G_loss.data, D_loss_real.data, D_loss_fake.data))\n",
    "        nets_test(20000,G,D)"
   ]
  },
  {
   "cell_type": "code",
   "execution_count": 22,
   "metadata": {},
   "outputs": [
    {
     "name": "stdout",
     "output_type": "stream",
     "text": [
      "Average D_real  0.522507| Std D_real  0.079554\n",
      "Average D_fake  0.485988| Std D_fake  0.088732\n"
     ]
    }
   ],
   "source": [
    "nets_test(60000,G,D)"
   ]
  },
  {
   "cell_type": "code",
   "execution_count": 23,
   "metadata": {},
   "outputs": [
    {
     "data": {
      "image/png": "[encoded data removed]",
      "text/plain": [
       "<Figure size 1440x576 with 4 Axes>"
      ]
     },
     "metadata": {
      "needs_background": "light"
     },
     "output_type": "display_data"
    }
   ],
   "source": [
    "plot_losses(losses_his)"
   ]
  },
  {
   "cell_type": "markdown",
   "metadata": {},
   "source": [
    "## Reproduzindo dados como os do dataset inicial"
   ]
  },
  {
   "cell_type": "code",
   "execution_count": 24,
   "metadata": {},
   "outputs": [],
   "source": [
    "oh = np.eye(2)\n",
    "batch = X_tc.shape[0]\n",
    "l_s = np.random.choice([0,1],p=[1-rho,rho],size=(batch))\n",
    "l_s_ = torch.Tensor(oh[l_s]).type(torch.FloatTensor).cuda()\n",
    "l_s = torch.Tensor(l_s).type(torch.FloatTensor).reshape(batch,1).cuda()"
   ]
  },
  {
   "cell_type": "code",
   "execution_count": 25,
   "metadata": {},
   "outputs": [],
   "source": [
    "g = G(Variable(torch.randn(batch, Z_dim)).cuda(),l_s_)\n",
    "x_gen = torch.cat((g[:,0:3],l_s,g[:,3:]),dim=1)"
   ]
  },
  {
   "cell_type": "code",
   "execution_count": 26,
   "metadata": {},
   "outputs": [],
   "source": [
    "df_g = pd.DataFrame(data=np.round(x_gen.cpu().data.numpy(),0),columns=df_num.columns).astype(int)"
   ]
  },
  {
   "cell_type": "code",
   "execution_count": 27,
   "metadata": {},
   "outputs": [
    {
     "name": "stdout",
     "output_type": "stream",
     "text": [
      "mulheres de bigode: 0| homens de bigode: 14293\n",
      "novos de oculos: 8339| velhos de oculos: 12617\n"
     ]
    }
   ],
   "source": [
    "#dataset fake\n",
    "print('mulheres de bigode: {}| homens de bigode: {}'\\\n",
    "      .format(df_g[(df_g['genero']==0)&(df_g['bigode']==1)].shape[0],\n",
    "             df_g[(df_g['genero']==1)&(df_g['bigode']==1)].shape[0]))\n",
    "print('novos de oculos: {}| velhos de oculos: {}'\\\n",
    "      .format(df_g[(df_g['idade']==0)&(df_g['oculos']==1)].shape[0],\n",
    "             df_g[(df_g['idade']==1)&(df_g['oculos']==1)].shape[0]))"
   ]
  },
  {
   "cell_type": "code",
   "execution_count": 28,
   "metadata": {},
   "outputs": [
    {
     "name": "stdout",
     "output_type": "stream",
     "text": [
      "mulheres de bigode: 0| homens de bigode: 14237\n",
      "novos de oculos: 7802| velhos de oculos: 12613\n"
     ]
    }
   ],
   "source": [
    "#dataset real\n",
    "print('mulheres de bigode: {}| homens de bigode: {}'\\\n",
    "      .format(df_num[(df_num['genero']==0)&(df_num['bigode']==1)].shape[0],\n",
    "             df_num[(df_num['genero']==1)&(df_num['bigode']==1)].shape[0]))\n",
    "print('novos de oculos: {}| velhos de oculos: {}'\\\n",
    "      .format(df_num[(df_num['idade']==0)&(df_num['oculos']==1)].shape[0],\n",
    "             df_num[(df_num['idade']==1)&(df_num['oculos']==1)].shape[0]))"
   ]
  },
  {
   "cell_type": "code",
   "execution_count": 29,
   "metadata": {},
   "outputs": [
    {
     "name": "stdout",
     "output_type": "stream",
     "text": [
      "mulheres carecas: 12| homens carecas: 10748\n",
      "novos carecas: 3758| velhos carecas: 7002\n"
     ]
    }
   ],
   "source": [
    "#dataset fake\n",
    "print('mulheres carecas: {}| homens carecas: {}'\\\n",
    "      .format(df_g[(df_g['genero']==0)&(df_g['careca']==1)].shape[0],\n",
    "             df_g[(df_g['genero']==1)&(df_g['careca']==1)].shape[0]))\n",
    "print('novos carecas: {}| velhos carecas: {}'\\\n",
    "      .format(df_g[(df_g['idade']==0)&(df_g['careca']==1)].shape[0],\n",
    "             df_g[(df_g['idade']==1)&(df_g['careca']==1)].shape[0]))"
   ]
  },
  {
   "cell_type": "code",
   "execution_count": 30,
   "metadata": {},
   "outputs": [
    {
     "name": "stdout",
     "output_type": "stream",
     "text": [
      "mulheres carecas: 0| homens carecas: 10742\n",
      "novos carecas: 3746| velhos carecas: 6996\n"
     ]
    }
   ],
   "source": [
    "#dataset real\n",
    "print('mulheres carecas: {}| homens carecas: {}'\\\n",
    "      .format(df_num[(df_num['genero']==0)&(df_num['careca']==1)].shape[0],\n",
    "             df_num[(df_num['genero']==1)&(df_num['careca']==1)].shape[0]))\n",
    "print('novos carecas: {}| velhos carecas: {}'\\\n",
    "      .format(df_num[(df_num['idade']==0)&(df_num['careca']==1)].shape[0],\n",
    "             df_num[(df_num['idade']==1)&(df_num['careca']==1)].shape[0]))"
   ]
  },
  {
   "cell_type": "code",
   "execution_count": 31,
   "metadata": {},
   "outputs": [
    {
     "name": "stdout",
     "output_type": "stream",
     "text": [
      "proporcao de novos sem oculos: 0.7879\n",
      "proporcao de velhos sem oculos: 0.3910\n"
     ]
    }
   ],
   "source": [
    "#dataset fake\n",
    "print('proporcao de novos sem oculos: {:.4f}'\\\n",
    "      .format(df_g[(df_g['idade']==0)&(df_g['oculos']==0)].shape[0]/\\\n",
    "             df_g[df_g['idade']==0].shape[0]))\n",
    "print('proporcao de velhos sem oculos: {:.4f}'\\\n",
    "      .format(df_g[(df_g['idade']==1)&(df_g['oculos']==0)].shape[0]/\\\n",
    "             df_g[df_g['idade']==1].shape[0]+0.001))"
   ]
  },
  {
   "cell_type": "code",
   "execution_count": 32,
   "metadata": {},
   "outputs": [
    {
     "name": "stdout",
     "output_type": "stream",
     "text": [
      "proporcao de novos sem oculos: 0.7996\n",
      "proporcao de velhos sem oculos: 0.4011\n"
     ]
    }
   ],
   "source": [
    "#dataset real\n",
    "print('proporcao de novos sem oculos: {:.4f}'\\\n",
    "      .format(df_num[(df_num['idade']==0)&(df_num['oculos']==0)].shape[0]/\\\n",
    "             df_num[df_num['idade']==0].shape[0]))\n",
    "print('proporcao de velhos sem oculos: {:.4f}'\\\n",
    "      .format(df_num[(df_num['idade']==1)&(df_num['oculos']==0)].shape[0]/\\\n",
    "             df_num[df_num['idade']==1].shape[0]))"
   ]
  },
  {
   "cell_type": "code",
   "execution_count": 33,
   "metadata": {},
   "outputs": [
    {
     "name": "stdout",
     "output_type": "stream",
     "text": [
      "variacao de genero em relacao ao real: 4.39%\n",
      "variacao de idade em relacao ao real: -0.96%\n",
      "variacao de oculos em relacao ao real: 1.37%\n",
      "variacao de bigode em relacao ao real: 0.12%\n",
      "variacao de careca em relacao ao real: 0.04%\n",
      "variacao de regiao_0 em relacao ao real: -3.20%\n",
      "variacao de regiao_1 em relacao ao real: -0.95%\n",
      "variacao de regiao_2 em relacao ao real: 6.86%\n",
      "variacao de regiao_3 em relacao ao real: -1.33%\n",
      "variacao de cabelo_0 em relacao ao real: -5.12%\n",
      "variacao de cabelo_1 em relacao ao real: -5.31%\n",
      "variacao de cabelo_2 em relacao ao real: -1.18%\n",
      "variacao de cabelo_3 em relacao ao real: 0.05%\n"
     ]
    }
   ],
   "source": [
    "for col in df_num.columns:\n",
    "    print('variacao de {} em relacao ao real: {:.2%}'\\\n",
    "          .format(col,\n",
    "                  (df_num[col].value_counts().values[0]-df_g[col].value_counts().values[0])/df_num[col].value_counts().values[0]))"
   ]
  },
  {
   "cell_type": "code",
   "execution_count": null,
   "metadata": {},
   "outputs": [],
   "source": [
    "for col in df_g.columns:\n",
    "    plt.figure(figsize=(10,3))\n",
    "    sns.distplot(df_num[col],label='Real')\n",
    "    sns.distplot(df_g[col],label='Fake')\n",
    "    plt.legend(loc=0)\n",
    "    plt.grid(True)\n",
    "    plt.show()"
   ]
  },
  {
   "cell_type": "markdown",
   "metadata": {},
   "source": [
    "## Intervenção"
   ]
  },
  {
   "cell_type": "code",
   "execution_count": 24,
   "metadata": {},
   "outputs": [],
   "source": [
    "oh = np.eye(2)\n",
    "batch = X_tc.shape[0]\n",
    "l_s = np.random.choice([0,1],p=[0,1],size=(batch))\n",
    "l_s_ = torch.Tensor(oh[l_s]).type(torch.FloatTensor).cuda()\n",
    "l_s = torch.Tensor(l_s).type(torch.FloatTensor).reshape(batch,1).cuda()"
   ]
  },
  {
   "cell_type": "code",
   "execution_count": 25,
   "metadata": {},
   "outputs": [],
   "source": [
    "g = G(Variable(torch.randn(batch, Z_dim)).cuda(),l_s_)\n",
    "x_gen = torch.cat((g[:,0:3],l_s,g[:,3:]),dim=1)"
   ]
  },
  {
   "cell_type": "code",
   "execution_count": 26,
   "metadata": {},
   "outputs": [],
   "source": [
    "df_g = pd.DataFrame(data=np.round(x_gen.cpu().data.numpy(),0),columns=df_num.columns).astype(int)"
   ]
  },
  {
   "cell_type": "code",
   "execution_count": 27,
   "metadata": {},
   "outputs": [
    {
     "name": "stdout",
     "output_type": "stream",
     "text": [
      "mulheres de bigode: 0| homens de bigode: 14293\n",
      "novos de oculos: 8339| velhos de oculos: 12617\n"
     ]
    }
   ],
   "source": [
    "#dataset fake\n",
    "print('mulheres de bigode: {}| homens de bigode: {}'\\\n",
    "      .format(df_g[(df_g['genero']==0)&(df_g['bigode']==1)].shape[0],\n",
    "             df_g[(df_g['genero']==1)&(df_g['bigode']==1)].shape[0]))\n",
    "print('novos de oculos: {}| velhos de oculos: {}'\\\n",
    "      .format(df_g[(df_g['idade']==0)&(df_g['oculos']==1)].shape[0],\n",
    "             df_g[(df_g['idade']==1)&(df_g['oculos']==1)].shape[0]))"
   ]
  },
  {
   "cell_type": "code",
   "execution_count": 28,
   "metadata": {},
   "outputs": [
    {
     "name": "stdout",
     "output_type": "stream",
     "text": [
      "mulheres de bigode: 0| homens de bigode: 14237\n",
      "novos de oculos: 7802| velhos de oculos: 12613\n"
     ]
    }
   ],
   "source": [
    "#dataset real\n",
    "print('mulheres de bigode: {}| homens de bigode: {}'\\\n",
    "      .format(df_num[(df_num['genero']==0)&(df_num['bigode']==1)].shape[0],\n",
    "             df_num[(df_num['genero']==1)&(df_num['bigode']==1)].shape[0]))\n",
    "print('novos de oculos: {}| velhos de oculos: {}'\\\n",
    "      .format(df_num[(df_num['idade']==0)&(df_num['oculos']==1)].shape[0],\n",
    "             df_num[(df_num['idade']==1)&(df_num['oculos']==1)].shape[0]))"
   ]
  },
  {
   "cell_type": "code",
   "execution_count": 29,
   "metadata": {},
   "outputs": [
    {
     "name": "stdout",
     "output_type": "stream",
     "text": [
      "mulheres carecas: 12| homens carecas: 10748\n",
      "novos carecas: 3758| velhos carecas: 7002\n"
     ]
    }
   ],
   "source": [
    "#dataset fake\n",
    "print('mulheres carecas: {}| homens carecas: {}'\\\n",
    "      .format(df_g[(df_g['genero']==0)&(df_g['careca']==1)].shape[0],\n",
    "             df_g[(df_g['genero']==1)&(df_g['careca']==1)].shape[0]))\n",
    "print('novos carecas: {}| velhos carecas: {}'\\\n",
    "      .format(df_g[(df_g['idade']==0)&(df_g['careca']==1)].shape[0],\n",
    "             df_g[(df_g['idade']==1)&(df_g['careca']==1)].shape[0]))"
   ]
  },
  {
   "cell_type": "code",
   "execution_count": 30,
   "metadata": {},
   "outputs": [
    {
     "name": "stdout",
     "output_type": "stream",
     "text": [
      "mulheres carecas: 0| homens carecas: 10742\n",
      "novos carecas: 3746| velhos carecas: 6996\n"
     ]
    }
   ],
   "source": [
    "#dataset real\n",
    "print('mulheres carecas: {}| homens carecas: {}'\\\n",
    "      .format(df_num[(df_num['genero']==0)&(df_num['careca']==1)].shape[0],\n",
    "             df_num[(df_num['genero']==1)&(df_num['careca']==1)].shape[0]))\n",
    "print('novos carecas: {}| velhos carecas: {}'\\\n",
    "      .format(df_num[(df_num['idade']==0)&(df_num['careca']==1)].shape[0],\n",
    "             df_num[(df_num['idade']==1)&(df_num['careca']==1)].shape[0]))"
   ]
  },
  {
   "cell_type": "code",
   "execution_count": 31,
   "metadata": {},
   "outputs": [
    {
     "name": "stdout",
     "output_type": "stream",
     "text": [
      "proporcao de novos sem oculos: 0.7879\n",
      "proporcao de velhos sem oculos: 0.3910\n"
     ]
    }
   ],
   "source": [
    "#dataset fake\n",
    "print('proporcao de novos sem oculos: {:.4f}'\\\n",
    "      .format(df_g[(df_g['idade']==0)&(df_g['oculos']==0)].shape[0]/\\\n",
    "             df_g[df_g['idade']==0].shape[0]))\n",
    "print('proporcao de velhos sem oculos: {:.4f}'\\\n",
    "      .format(df_g[(df_g['idade']==1)&(df_g['oculos']==0)].shape[0]/\\\n",
    "             df_g[df_g['idade']==1].shape[0]+0.001))"
   ]
  },
  {
   "cell_type": "code",
   "execution_count": 32,
   "metadata": {},
   "outputs": [
    {
     "name": "stdout",
     "output_type": "stream",
     "text": [
      "proporcao de novos sem oculos: 0.7996\n",
      "proporcao de velhos sem oculos: 0.4011\n"
     ]
    }
   ],
   "source": [
    "#dataset real\n",
    "print('proporcao de novos sem oculos: {:.4f}'\\\n",
    "      .format(df_num[(df_num['idade']==0)&(df_num['oculos']==0)].shape[0]/\\\n",
    "             df_num[df_num['idade']==0].shape[0]))\n",
    "print('proporcao de velhos sem oculos: {:.4f}'\\\n",
    "      .format(df_num[(df_num['idade']==1)&(df_num['oculos']==0)].shape[0]/\\\n",
    "             df_num[df_num['idade']==1].shape[0]))"
   ]
  },
  {
   "cell_type": "code",
   "execution_count": 33,
   "metadata": {},
   "outputs": [
    {
     "name": "stdout",
     "output_type": "stream",
     "text": [
      "variacao de genero em relacao ao real: 4.39%\n",
      "variacao de idade em relacao ao real: -0.96%\n",
      "variacao de oculos em relacao ao real: 1.37%\n",
      "variacao de bigode em relacao ao real: 0.12%\n",
      "variacao de careca em relacao ao real: 0.04%\n",
      "variacao de regiao_0 em relacao ao real: -3.20%\n",
      "variacao de regiao_1 em relacao ao real: -0.95%\n",
      "variacao de regiao_2 em relacao ao real: 6.86%\n",
      "variacao de regiao_3 em relacao ao real: -1.33%\n",
      "variacao de cabelo_0 em relacao ao real: -5.12%\n",
      "variacao de cabelo_1 em relacao ao real: -5.31%\n",
      "variacao de cabelo_2 em relacao ao real: -1.18%\n",
      "variacao de cabelo_3 em relacao ao real: 0.05%\n"
     ]
    }
   ],
   "source": [
    "for col in df_num.columns:\n",
    "    print('variacao de {} em relacao ao real: {:.2%}'\\\n",
    "          .format(col,\n",
    "                  (df_num[col].value_counts().values[0]-df_g[col].value_counts().values[0])/df_num[col].value_counts().values[0]))"
   ]
  },
  {
   "cell_type": "code",
   "execution_count": null,
   "metadata": {},
   "outputs": [],
   "source": [
    "for col in df_g.columns:\n",
    "    plt.figure(figsize=(10,3))\n",
    "    sns.distplot(df_num[col],label='Real')\n",
    "    sns.distplot(df_g[col],label='Fake')\n",
    "    plt.legend(loc=0)\n",
    "    plt.grid(True)\n",
    "    plt.show()"
   ]
  },
  {
   "cell_type": "code",
   "execution_count": null,
   "metadata": {},
   "outputs": [],
   "source": []
  }
 ],
 "metadata": {
  "kernelspec": {
   "display_name": "Python 3 (ipykernel)",
   "language": "python",
   "name": "python3"
  },
  "language_info": {
   "codemirror_mode": {
    "name": "ipython",
    "version": 3
   },
   "file_extension": ".py",
   "mimetype": "text/x-python",
   "name": "python",
   "nbconvert_exporter": "python",
   "pygments_lexer": "ipython3",
   "version": "3.8.5"
  }
 },
 "nbformat": 4,
 "nbformat_minor": 4
}
