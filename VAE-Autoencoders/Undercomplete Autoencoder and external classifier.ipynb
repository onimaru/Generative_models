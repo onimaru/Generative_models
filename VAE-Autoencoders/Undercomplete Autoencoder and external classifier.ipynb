{
 "cells": [
  {
   "cell_type": "markdown",
   "metadata": {},
   "source": [
    "# Undercomplete Autoencoder"
   ]
  },
  {
   "cell_type": "code",
   "execution_count": 1,
   "metadata": {},
   "outputs": [],
   "source": [
    "import numpy as np\n",
    "from sklearn.metrics import accuracy_score\n",
    "import torch\n",
    "import torch.utils.data\n",
    "import torch.nn as nn\n",
    "import torch.nn.functional as F\n",
    "import torch.optim as optim\n",
    "from torch.autograd import Variable\n",
    "from torchvision import datasets, transforms\n",
    "from torch.optim import lr_scheduler\n",
    "from torchvision.utils import make_grid , save_image\n",
    "%matplotlib inline\n",
    "import matplotlib.pyplot as plt"
   ]
  },
  {
   "cell_type": "code",
   "execution_count": 2,
   "metadata": {},
   "outputs": [
    {
     "data": {
      "text/plain": [
       "device(type='cuda', index=0)"
      ]
     },
     "execution_count": 2,
     "metadata": {},
     "output_type": "execute_result"
    }
   ],
   "source": [
    "architecture_name = \"simple_net\"\n",
    "ngpu=1\n",
    "device = torch.device(\"cuda:0\" if (torch.cuda.is_available() and ngpu > 0) else \"cpu\")\n",
    "device"
   ]
  },
  {
   "cell_type": "code",
   "execution_count": 3,
   "metadata": {},
   "outputs": [],
   "source": [
    "def create_loader(data_path,workers,batch_size):\n",
    "    dataset = datasets.ImageFolder(root=data_path,\n",
    "                                     transform=transforms.Compose([transforms.ToTensor()]))\n",
    "    loader = torch.utils.data.DataLoader(dataset, batch_size=batch_size,\n",
    "                                         shuffle=True, num_workers=workers)\n",
    "    return loader"
   ]
  },
  {
   "cell_type": "code",
   "execution_count": 8,
   "metadata": {},
   "outputs": [],
   "source": [
    "class Encoder(nn.Module):\n",
    "    def __init__(self,input_dim=784,output_dim=50,ngpu=ngpu):\n",
    "        super(Encoder, self).__init__()\n",
    "        self.input_dim = input_dim\n",
    "        self.output_dim = output_dim\n",
    "        self.hidden1 = nn.Linear(self.input_dim, 392)\n",
    "        self.hidden2 = nn.Linear(392, 196)\n",
    "        self.hidden3 = nn.Linear(196, 100)\n",
    "        self.out = nn.Linear(100, self.output_dim)\n",
    "\n",
    "    def forward(self, x):\n",
    "        h = nn.Dropout(p=0.1)(torch.relu(self.hidden1(x)))\n",
    "        h = nn.Dropout(p=0.1)(torch.relu(self.hidden2(h)))\n",
    "        h = nn.Dropout(p=0.1)(torch.relu(self.hidden3(h)))\n",
    "        return torch.sigmoid(self.out(h))\n",
    "\n",
    "class Decoder(nn.Module):\n",
    "    def __init__(self,input_dim=50,output_dim=784,ngpu=ngpu):\n",
    "        super(Decoder, self).__init__()\n",
    "        self.input_dim = input_dim\n",
    "        self.output_dim = output_dim\n",
    "        self.hidden1 = nn.Linear(self.input_dim, 100)\n",
    "        self.hidden2 = nn.Linear(100, 196)\n",
    "        self.hidden3 = nn.Linear(196, 392)\n",
    "        self.out = nn.Linear(392, self.output_dim)\n",
    "\n",
    "    def forward(self, x):\n",
    "        h = nn.Dropout(p=0.1)(torch.relu(self.hidden1(x)))\n",
    "        h = nn.Dropout(p=0.1)(torch.relu(self.hidden2(h)))\n",
    "        h = nn.Dropout(p=0.1)(torch.relu(self.hidden3(h)))\n",
    "        x_out = torch.sigmoid(self.out(h))\n",
    "        return x_out\n",
    "    \n",
    "\n",
    "def init_weights(m):\n",
    "    if type(m) == nn.Linear:\n",
    "        torch.nn.init.xavier_normal_(m.weight).to(device)\n",
    "        m.bias.data.fill_(0.001)\n",
    "    \n",
    "def define_model():\n",
    "    # Instanciamos as redes\n",
    "    encoder = Encoder(input_dim=784,output_dim=100).to(device)\n",
    "    decoder = Decoder(input_dim=100,output_dim=784).to(device)\n",
    "    if (device.type == 'cuda') and (ngpu > 1):\n",
    "        encoder = nn.DataParallel(encoder, list(range(ngpu)))\n",
    "        decoder = nn.DataParallel(decoder, list(range(ngpu)))\n",
    "\n",
    "    # Inicializamos os pesos\n",
    "    encoder.apply(init_weights)\n",
    "    decoder.apply(init_weights)\n",
    "\n",
    "    learning_rate, beta1, beta2 = [1e-3,0.5,0.999]\n",
    "    eps,weight_decay,amsgrad = [1e-8,0,False]\n",
    "    params = list(encoder.parameters()) + list(decoder.parameters())\n",
    "    optimizer = optim.Adam(params,\n",
    "                               lr=learning_rate,\n",
    "                               betas=(beta1,beta2),\n",
    "                               eps=eps,\n",
    "                               weight_decay=weight_decay,\n",
    "                               amsgrad=amsgrad)\n",
    "    return encoder,decoder,optimizer\n",
    "\n",
    "# Funções de perda\n",
    "bce_logit_loss = nn.BCEWithLogitsLoss()\n",
    "mse_loss = nn.MSELoss()\n",
    "\n",
    "def compute_accuracy(y,y_pred):\n",
    "    return accuracy_score(torch.argmax(y,dim=1).cpu().numpy(),torch.argmax(y_pred,dim=1).detach().cpu().numpy().round())\n",
    "\n",
    "def compute_entropy(probs):\n",
    "    return torch.mean(-torch.sum(probs * torch.log(probs+0.000001),dim=1))\n",
    "\n",
    "def identity(X):\n",
    "    return decoder(encoder(X))\n",
    "\n",
    "def encode(X):\n",
    "    return encoder(X)\n",
    "\n",
    "def decode(h):\n",
    "    return decoder(h)\n",
    "\n",
    "def show_img(title,img,size = 32,img_size=28):\n",
    "    print(title)\n",
    "    img = img[:size].cpu().view(size,1,img_size,img_size)\n",
    "    npimg = np.transpose(make_grid(img).numpy(),(1,2,0))\n",
    "    plt.imshow(npimg)\n",
    "    \n",
    "def to_one_hot(y_tensor, ndims):\n",
    "    y_tensor = y_tensor.type(torch.LongTensor).view(-1, 1)\n",
    "    y_one_hot = torch.zeros(\n",
    "        y_tensor.size()[0], ndims).scatter_(1, y_tensor, 1)\n",
    "    return y_one_hot"
   ]
  },
  {
   "cell_type": "code",
   "execution_count": 6,
   "metadata": {},
   "outputs": [],
   "source": [
    "workers      = 12\n",
    "batch_size   = 32\n",
    "img_size     = 28\n",
    "X_dim        = 784\n",
    "h_dim        = 100\n",
    "train_loader = create_loader(\"/home/ninja/MNIST/training/\",workers,batch_size)\n",
    "test_loader  = create_loader(\"/home/ninja/MNIST/testing/\" ,workers,batch_size)"
   ]
  },
  {
   "cell_type": "code",
   "execution_count": 7,
   "metadata": {},
   "outputs": [],
   "source": [
    "encoder,decoder,optimizer = define_model()\n",
    "lambda1 = lambda epoch: 0.95 ** epoch\n",
    "scheduler = lr_scheduler.LambdaLR(optimizer,lr_lambda=[lambda1],verbose=False)"
   ]
  },
  {
   "cell_type": "code",
   "execution_count": 10,
   "metadata": {},
   "outputs": [
    {
     "name": "stdout",
     "output_type": "stream",
     "text": [
      "2| Train loss: 0.0249 | Test loss: 0.0270\n",
      "4| Train loss: 0.0252 | Test loss: 0.0185\n",
      "6| Train loss: 0.0229 | Test loss: 0.0235\n",
      "8| Train loss: 0.0226 | Test loss: 0.0208\n",
      "10| Train loss: 0.0213 | Test loss: 0.0223\n",
      "CPU times: user 1min 14s, sys: 7.68 s, total: 1min 22s\n",
      "Wall time: 1min 18s\n"
     ]
    }
   ],
   "source": [
    "%%time\n",
    "for epoch in range(1,11):\n",
    "    loss_ = []\n",
    "    for _, (X_train,y_train) in enumerate(train_loader):\n",
    "        X_train = X_train[:,0,:,:].view(-1,784).to(device)\n",
    "        X_encoded_train = encoder(X_train)\n",
    "        X_pred_train = decoder(X_encoded_train)\n",
    "        loss = mse_loss(X_pred_train,X_train)\n",
    "        loss.backward()\n",
    "        optimizer.step()\n",
    "        optimizer.zero_grad()\n",
    "    scheduler.step()\n",
    "    if epoch%2 == 0:\n",
    "        for (X_test,y_test) in test_loader:\n",
    "            X_test = X_test[:,0,:,:].view(-1,784).to(device)\n",
    "            train_loss = loss.detach().cpu().numpy()\n",
    "            X_pred_test = decoder(encoder(X_test))\n",
    "            test_loss = (mse_loss(X_pred_test,X_test))\n",
    "            print(f\"{epoch}| Train loss: {train_loss:.4f} | Test loss: {test_loss:.4f}\")\n",
    "            break"
   ]
  },
  {
   "cell_type": "code",
   "execution_count": 143,
   "metadata": {},
   "outputs": [
    {
     "data": {
      "image/png": "[encoded data removed]",
      "text/plain": [
       "<Figure size 432x288 with 1 Axes>"
      ]
     },
     "metadata": {
      "needs_background": "light"
     },
     "output_type": "display_data"
    }
   ],
   "source": [
    "show_adn_save(\"generate\",make_grid(identity(X_train[:32]).cpu().view(32,1,28,28).data))"
   ]
  },
  {
   "cell_type": "code",
   "execution_count": 144,
   "metadata": {},
   "outputs": [
    {
     "data": {
      "image/png": "[encoded data removed]",
      "text/plain": [
       "<Figure size 432x288 with 1 Axes>"
      ]
     },
     "metadata": {
      "needs_background": "light"
     },
     "output_type": "display_data"
    }
   ],
   "source": [
    "show_adn_save(\"real\",make_grid(X_train[:32].cpu().view(32,1,28,28).data))"
   ]
  },
  {
   "cell_type": "code",
   "execution_count": null,
   "metadata": {},
   "outputs": [],
   "source": []
  },
  {
   "cell_type": "code",
   "execution_count": 11,
   "metadata": {},
   "outputs": [],
   "source": [
    "class Classifier(nn.Module):\n",
    "    def __init__(self,input_dim,ngpu=ngpu):\n",
    "        super(Classifier, self).__init__()\n",
    "        self.input_dim = input_dim\n",
    "        self.hidden1 = nn.Linear(self.input_dim, int(self.input_dim/2))\n",
    "        self.hidden2 = nn.Linear(int(self.input_dim/2), int(self.input_dim/4))\n",
    "        self.out = nn.Linear(int(self.input_dim/4), 10)\n",
    "\n",
    "    def forward(self, x):\n",
    "        h = nn.Dropout(p=0.1)(torch.relu(self.hidden1(x)))\n",
    "        h = nn.Dropout(p=0.1)(torch.relu(self.hidden2(h)))\n",
    "        target_out = torch.softmax(self.out(h),dim=1)\n",
    "        return target_out\n",
    "    \n",
    "def define_clf(model_class,input_dim,output_dim):\n",
    "    # Instanciamos as redes\n",
    "    net = model_class(input_dim,output_dim).to(device)\n",
    "    if (device.type == 'cuda') and (ngpu > 1):\n",
    "        net = nn.DataParallel(net, list(range(ngpu)))\n",
    "\n",
    "    # Inicializamos os pesos\n",
    "    net.apply(init_weights)\n",
    "\n",
    "    learning_rate, beta1, beta2 = [1e-3,0.5,0.999]\n",
    "    eps,weight_decay,amsgrad = [1e-8,0,False]\n",
    "    net_optimizer = optim.Adam(net.parameters(),\n",
    "                               lr=learning_rate,\n",
    "                               betas=(beta1,beta2),\n",
    "                               eps=eps,\n",
    "                               weight_decay=weight_decay,\n",
    "                               amsgrad=amsgrad)\n",
    "    return net,net_optimizer"
   ]
  },
  {
   "cell_type": "code",
   "execution_count": 22,
   "metadata": {},
   "outputs": [],
   "source": [
    "x_clf,x_clf_optimizer = define_clf(Classifier,X_dim,10)\n",
    "h_clf,h_clf_optimizer = define_clf(Classifier,h_dim,10)"
   ]
  },
  {
   "cell_type": "code",
   "execution_count": 23,
   "metadata": {},
   "outputs": [
    {
     "name": "stdout",
     "output_type": "stream",
     "text": [
      "Epoch 2:\n",
      "X Train loss: 0.6584 | X Test loss: 0.6606  | X Train acc: 0.9688 | X Test acc: 0.9375\n",
      "h Train loss: 0.6765 | h Test loss: 0.6633  | h Train acc: 0.7812 | h Test acc: 0.9375\n",
      "Epoch 4:\n",
      "X Train loss: 0.6594 | X Test loss: 0.6616  | X Train acc: 0.9688 | X Test acc: 0.9375\n",
      "h Train loss: 0.6653 | h Test loss: 0.6796  | h Train acc: 0.9062 | h Test acc: 0.7500\n",
      "Epoch 6:\n",
      "X Train loss: 0.6583 | X Test loss: 0.6552  | X Train acc: 0.9688 | X Test acc: 1.0000\n",
      "h Train loss: 0.6647 | h Test loss: 0.6604  | h Train acc: 0.9062 | h Test acc: 0.9688\n",
      "Epoch 8:\n",
      "X Train loss: 0.6613 | X Test loss: 0.6607  | X Train acc: 0.9375 | X Test acc: 0.9375\n",
      "h Train loss: 0.6690 | h Test loss: 0.6713  | h Train acc: 0.8750 | h Test acc: 0.8125\n",
      "Epoch 10:\n",
      "X Train loss: 0.6610 | X Test loss: 0.6614  | X Train acc: 0.9375 | X Test acc: 0.9375\n",
      "h Train loss: 0.6675 | h Test loss: 0.6736  | h Train acc: 0.8438 | h Test acc: 0.8125\n",
      "CPU times: user 1min 37s, sys: 10.3 s, total: 1min 47s\n",
      "Wall time: 1min 43s\n"
     ]
    }
   ],
   "source": [
    "%%time\n",
    "for epoch in range(1,11):\n",
    "    loss_ = []\n",
    "    for _, (X_train,y_train) in enumerate(train_loader):\n",
    "        X_train = X_train[:,0,:,:].view(-1,784).to(device)\n",
    "        y_train = to_one_hot(y_train-1, 10).to(device)\n",
    "        X_encoded_train = encoder(X_train).detach()\n",
    "        y_x_clf = x_clf(X_train)\n",
    "        y_h_clf = h_clf(X_encoded_train)\n",
    "        x_clf_loss = bce_logit_loss(y_x_clf,y_train)\n",
    "        h_clf_loss = bce_logit_loss(y_h_clf,y_train)\n",
    "        x_clf_train_acc = compute_accuracy(y_train,y_x_clf)\n",
    "        h_clf_train_acc = compute_accuracy(y_train,y_h_clf)\n",
    "        x_clf_loss.backward()\n",
    "        x_clf_optimizer.step()\n",
    "        x_clf_optimizer.zero_grad()\n",
    "        h_clf_loss.backward()\n",
    "        h_clf_optimizer.step()\n",
    "        h_clf_optimizer.zero_grad()\n",
    "    scheduler.step()\n",
    "    if epoch%2 == 0:\n",
    "        for (X_test,y_test) in test_loader:\n",
    "            X_test = X_test[:,0,:,:].view(-1,784).to(device)\n",
    "            y_test = to_one_hot(y_test, 10).to(device)\n",
    "            X_encoded_test = encoder(X_test).detach()\n",
    "            y_x_clf_test = x_clf(X_test).detach()\n",
    "            y_h_clf_test = h_clf(X_encoded_test).detach()\n",
    "            x_clf_loss_test = bce_logit_loss(y_x_clf_test,y_test)\n",
    "            h_clf_loss_test = bce_logit_loss(y_h_clf_test,y_test)\n",
    "            x_clf_test_acc = compute_accuracy(y_test,y_x_clf_test)\n",
    "            h_clf_test_acc = compute_accuracy(y_test,y_h_clf_test)\n",
    "            print(f\"Epoch {epoch}:\")\n",
    "            print(f\"X Train loss: {x_clf_loss.mean():.4f} | X Test loss: {x_clf_loss_test.mean():.4f}  | X Train acc: {x_clf_train_acc.mean():.4f} | X Test acc: {x_clf_test_acc.mean():.4f}\")\n",
    "            print(f\"h Train loss: {h_clf_loss.mean():.4f} | h Test loss: {h_clf_loss_test.mean():.4f}  | h Train acc: {h_clf_train_acc.mean():.4f} | h Test acc: {h_clf_test_acc.mean():.4f}\")\n",
    "            break"
   ]
  },
  {
   "cell_type": "code",
   "execution_count": null,
   "metadata": {},
   "outputs": [],
   "source": []
  }
 ],
 "metadata": {
  "kernelspec": {
   "display_name": "Python 3",
   "language": "python",
   "name": "python3"
  },
  "language_info": {
   "codemirror_mode": {
    "name": "ipython",
    "version": 3
   },
   "file_extension": ".py",
   "mimetype": "text/x-python",
   "name": "python",
   "nbconvert_exporter": "python",
   "pygments_lexer": "ipython3",
   "version": "3.8.5"
  }
 },
 "nbformat": 4,
 "nbformat_minor": 4
}
