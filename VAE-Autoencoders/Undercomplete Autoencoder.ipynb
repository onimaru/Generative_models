{
 "cells": [
  {
   "cell_type": "markdown",
   "metadata": {},
   "source": [
    "# Undercomplete Autoencoder\n",
    "\n",
    "L = MSE"
   ]
  },
  {
   "cell_type": "code",
   "execution_count": null,
   "metadata": {},
   "outputs": [],
   "source": [
    "import numpy as np\n",
    "import torch\n",
    "import torch.utils.data\n",
    "import torch.nn as nn\n",
    "import torch.nn.functional as F\n",
    "import torch.optim as optim\n",
    "from torch.autograd import Variable\n",
    "from torchvision import datasets, transforms\n",
    "from torchvision.utils import make_grid , save_image\n",
    "%matplotlib inline\n",
    "import matplotlib.pyplot as plt"
   ]
  },
  {
   "cell_type": "code",
   "execution_count": null,
   "metadata": {},
   "outputs": [],
   "source": [
    "architecture_name = \"simple_net\"\n",
    "ngpu=1\n",
    "device = torch.device(\"cuda:0\" if (torch.cuda.is_available() and ngpu > 0) else \"cpu\")\n",
    "device"
   ]
  },
  {
   "cell_type": "code",
   "execution_count": null,
   "metadata": {},
   "outputs": [],
   "source": [
    "workers = 8\n",
    "batch_size = 32    \n",
    "train_dataset = datasets.ImageFolder(root=\"/home/ninja/MNIST/training/\",\n",
    "                                     transform=transforms.Compose([transforms.ToTensor()]))\n",
    "train_loader = torch.utils.data.DataLoader(train_dataset, batch_size=batch_size,\n",
    "                                         shuffle=True, num_workers=workers)\n",
    "\n",
    "test_dataset = datasets.ImageFolder(root=\"/home/ninja/MNIST/testing/\",\n",
    "                                    transform=transforms.Compose([transforms.ToTensor()]))\n",
    "test_loader = torch.utils.data.DataLoader(test_dataset, batch_size=batch_size,\n",
    "                                         shuffle=True, num_workers=workers)"
   ]
  },
  {
   "cell_type": "code",
   "execution_count": null,
   "metadata": {},
   "outputs": [],
   "source": [
    "class Net(nn.Module):\n",
    "    def __init__(self,input_dim=784,output_dim=784,ngpu=ngpu):\n",
    "        super(Net, self).__init__()\n",
    "        self.input_dim = input_dim\n",
    "        self.output_dim = output_dim\n",
    "        self.hidden1 = nn.Linear(self.input_dim, 100)\n",
    "        self.act1 = nn.ReLU()\n",
    "        self.hidden2 = nn.Linear(100, 100)\n",
    "        self.act2 = nn.ReLU()\n",
    "        self.out1 = nn.Linear(100, self.output_dim)\n",
    "\n",
    "    def forward(self, x):\n",
    "        h = self.act1(self.hidden1(x))\n",
    "        h = self.act2(self.hidden2(h))\n",
    "        out = torch.sigmoid(self.out1(h))\n",
    "        return out\n",
    "\n",
    "def init_weights(m):\n",
    "    if type(m) == nn.Linear:\n",
    "        torch.nn.init.xavier_normal_(m.weight).to(device)\n",
    "        m.bias.data.fill_(0.001)\n",
    "    \n",
    "def define_model():\n",
    "    # Instanciamos as redes\n",
    "    net = Net().to(device)\n",
    "    if (device.type == 'cuda') and (ngpu > 1):\n",
    "        net = nn.DataParallel(net, list(range(ngpu)))\n",
    "\n",
    "    # Inicializamos os pesos\n",
    "    net.apply(init_weights)\n",
    "\n",
    "    learning_rate, beta1, beta2 = [1e-3,0.5,0.999]\n",
    "    eps,weight_decay,amsgrad = [1e-8,0,False]\n",
    "    net_optimizer = optim.Adam(net.parameters(),\n",
    "                               lr=learning_rate,\n",
    "                               betas=(beta1,beta2),\n",
    "                               eps=eps,\n",
    "                               weight_decay=weight_decay,\n",
    "                               amsgrad=amsgrad)\n",
    "    return net,net_optimizer\n",
    "\n",
    "mse_loss = nn.MSELoss()"
   ]
  },
  {
   "cell_type": "code",
   "execution_count": null,
   "metadata": {},
   "outputs": [],
   "source": [
    "net,net_optimizer = define_model()"
   ]
  },
  {
   "cell_type": "code",
   "execution_count": null,
   "metadata": {},
   "outputs": [],
   "source": [
    "for epoch in range(10):\n",
    "    loss_ = []\n",
    "    for _, (X_train,_) in enumerate(train_loader):\n",
    "        X_train = X_train.view(-1,784).to(device)\n",
    "        X_pred_train = net(X_train)\n",
    "        loss = mse_loss(X_pred_train,X_train)\n",
    "        loss.backward()\n",
    "        net_optimizer.step()\n",
    "        net_optimizer.zero_grad()\n",
    "\n",
    "    print(\"Training loss for {} epoch: {}\".format(epoch, loss))"
   ]
  },
  {
   "cell_type": "code",
   "execution_count": null,
   "metadata": {},
   "outputs": [],
   "source": [
    "def show_adn_save(file_name,img):\n",
    "    npimg = np.transpose(img.numpy(),(1,2,0))\n",
    "    plt.imshow(npimg)"
   ]
  },
  {
   "cell_type": "code",
   "execution_count": null,
   "metadata": {},
   "outputs": [],
   "source": [
    "show_adn_save(\"real\",make_grid(X_train[:32].cpu().view(32,1,28,28).data))"
   ]
  },
  {
   "cell_type": "code",
   "execution_count": null,
   "metadata": {},
   "outputs": [],
   "source": [
    "show_adn_save(\"generate\",make_grid(net(X_train[:32]).cpu().view(32,1,28,28).data))"
   ]
  },
  {
   "cell_type": "markdown",
   "metadata": {},
   "source": [
    "### Construir Encoder com transfer learning"
   ]
  },
  {
   "cell_type": "code",
   "execution_count": null,
   "metadata": {},
   "outputs": [],
   "source": [
    "class Encoder(nn.Module):\n",
    "    def __init__(self,input_dim=784,output_dim=100,ngpu=ngpu):\n",
    "        super(Encoder, self).__init__()\n",
    "        self.input_dim = input_dim\n",
    "        self.output_dim = output_dim\n",
    "        self.hidden1 = nn.Linear(self.input_dim, 100)\n",
    "        self.act1 = nn.ReLU()\n",
    "        self.hidden2 = nn.Linear(100, 100)\n",
    "\n",
    "    def forward(self, x):\n",
    "        h = self.act1(self.hidden1(x))\n",
    "        h = self.hidden2(h)\n",
    "        return h"
   ]
  },
  {
   "cell_type": "code",
   "execution_count": null,
   "metadata": {},
   "outputs": [],
   "source": [
    "encoder = Encoder().to(device)"
   ]
  },
  {
   "cell_type": "code",
   "execution_count": null,
   "metadata": {},
   "outputs": [],
   "source": [
    "def transfer_learning(trained_model,new_model):\n",
    "    pretrained_dict = trained_model.state_dict()\n",
    "    model_dict = new_model.state_dict()\n",
    "    pretrained_dict = {k: v for k, v in pretrained_dict.items() if k in model_dict}\n",
    "    model_dict.update(pretrained_dict)\n",
    "    new_model.load_state_dict(model_dict)\n",
    "    return new_model"
   ]
  },
  {
   "cell_type": "code",
   "execution_count": null,
   "metadata": {},
   "outputs": [],
   "source": [
    "encoder.state_dict()['hidden1.weight']"
   ]
  },
  {
   "cell_type": "code",
   "execution_count": null,
   "metadata": {},
   "outputs": [],
   "source": [
    "encoder = transfer_learning(trained_model=net,new_model=encoder)"
   ]
  },
  {
   "cell_type": "code",
   "execution_count": null,
   "metadata": {},
   "outputs": [],
   "source": [
    "net.state_dict()['hidden1.weight']"
   ]
  },
  {
   "cell_type": "code",
   "execution_count": null,
   "metadata": {},
   "outputs": [],
   "source": [
    "encoder.state_dict()['hidden1.weight']"
   ]
  },
  {
   "cell_type": "code",
   "execution_count": null,
   "metadata": {},
   "outputs": [],
   "source": [
    "for _, (X_train,y_train) in enumerate(train_loader):\n",
    "    X_train = X_train.view(-1,784).to(device)\n",
    "    break"
   ]
  },
  {
   "cell_type": "code",
   "execution_count": null,
   "metadata": {},
   "outputs": [],
   "source": [
    "idx = 0\n",
    "encoder(X_train[idx]).detach(),y_train[idx]"
   ]
  },
  {
   "cell_type": "code",
   "execution_count": null,
   "metadata": {},
   "outputs": [],
   "source": [
    "idx = 1\n",
    "encoder(X_train[idx]).detach(),y_train[idx]"
   ]
  },
  {
   "cell_type": "code",
   "execution_count": null,
   "metadata": {},
   "outputs": [],
   "source": [
    "idx = -1\n",
    "encoder(X_train[idx]).detach(),y_train[idx]"
   ]
  },
  {
   "cell_type": "code",
   "execution_count": null,
   "metadata": {},
   "outputs": [],
   "source": []
  }
 ],
 "metadata": {
  "kernelspec": {
   "display_name": "Python 3 (ipykernel)",
   "language": "python",
   "name": "python3"
  },
  "language_info": {
   "codemirror_mode": {
    "name": "ipython",
    "version": 3
   },
   "file_extension": ".py",
   "mimetype": "text/x-python",
   "name": "python",
   "nbconvert_exporter": "python",
   "pygments_lexer": "ipython3",
   "version": "3.8.5"
  }
 },
 "nbformat": 4,
 "nbformat_minor": 4
}
